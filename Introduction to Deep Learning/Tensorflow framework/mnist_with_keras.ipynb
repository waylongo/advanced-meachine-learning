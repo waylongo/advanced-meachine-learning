{
  "nbformat": 4,
  "nbformat_minor": 0,
  "metadata": {
    "colab": {
      "name": "mnist_with_keras",
      "version": "0.3.2",
      "provenance": [],
      "collapsed_sections": []
    },
    "kernelspec": {
      "display_name": "Python 3",
      "language": "python",
      "name": "python3"
    },
    "accelerator": "GPU"
  },
  "cells": [
    {
      "metadata": {
        "id": "935pB0dBBLVA",
        "colab_type": "code",
        "colab": {
          "base_uri": "https://localhost:8080/",
          "height": 158
        },
        "outputId": "3311b133-1de8-48ae-bd08-aeb2af980b57"
      },
      "cell_type": "code",
      "source": [
        "! wget https://raw.githubusercontent.com/hse-aml/intro-to-dl/master/setup_google_colab.py -O setup_google_colab.py\n",
        "import setup_google_colab\n",
        "setup_google_colab.setup_week2_v2()  # change to the week you're working on\n",
        "# note on week 2: select setup_week2_v2() if you've started the course after August 13, 2018,\n",
        "# otherwise call setup_week2()."
      ],
      "execution_count": 1,
      "outputs": [
        {
          "output_type": "stream",
          "text": [
            "\n",
            "Redirecting output to ‘wget-log.1’.\n",
            "**************************************************\n",
            "inception_v3_weights_tf_dim_ordering_tf_kernels_notop.h5\n",
            "**************************************************\n",
            "cifar-10-batches-py.tar.gz\n",
            "**************************************************\n",
            "mnist.npz\n"
          ],
          "name": "stdout"
        }
      ]
    },
    {
      "metadata": {
        "id": "LR9XciudAxf9",
        "colab_type": "text",
        "slideshow": {
          "slide_type": "slide"
        }
      },
      "cell_type": "markdown",
      "source": [
        "# MNIST digits classification with Keras\n",
        "\n",
        "We don't expect you to code anything here because you've already solved it with TensorFlow.\n",
        "\n",
        "But you can appreciate how simpler it is with Keras.\n",
        "\n",
        "We'll be happy if you play around with the architecture though, there're some tips at the end."
      ]
    },
    {
      "metadata": {
        "id": "cqdbjJrOAxf_",
        "colab_type": "text"
      },
      "cell_type": "markdown",
      "source": [
        "<img src=\"https://github.com/hse-aml/intro-to-dl/blob/master/week2/v2/images/mnist_sample.png?raw=1\" style=\"width:30%\">"
      ]
    },
    {
      "metadata": {
        "id": "jqdt4OZYAxgA",
        "colab_type": "code",
        "colab": {
          "base_uri": "https://localhost:8080/",
          "height": 70
        },
        "outputId": "16ad675a-c1cf-4745-8686-4ba49c85e254"
      },
      "cell_type": "code",
      "source": [
        "import numpy as np\n",
        "from sklearn.metrics import accuracy_score\n",
        "from matplotlib import pyplot as plt\n",
        "%matplotlib inline\n",
        "import tensorflow as tf\n",
        "print(\"We're using TF\", tf.__version__)\n",
        "import keras\n",
        "print(\"We are using Keras\", keras.__version__)\n",
        "\n",
        "import sys\n",
        "sys.path.append(\"../..\")\n",
        "import keras_utils\n",
        "from keras_utils import reset_tf_session"
      ],
      "execution_count": 2,
      "outputs": [
        {
          "output_type": "stream",
          "text": [
            "We're using TF 1.11.0-rc1\n"
          ],
          "name": "stdout"
        },
        {
          "output_type": "stream",
          "text": [
            "Using TensorFlow backend.\n"
          ],
          "name": "stderr"
        },
        {
          "output_type": "stream",
          "text": [
            "We are using Keras 2.0.6\n"
          ],
          "name": "stdout"
        }
      ]
    },
    {
      "metadata": {
        "id": "z2hFx7K4AxgD",
        "colab_type": "text"
      },
      "cell_type": "markdown",
      "source": [
        "# Look at the data\n",
        "\n",
        "In this task we have 50000 28x28 images of digits from 0 to 9.\n",
        "We will train a classifier on this data."
      ]
    },
    {
      "metadata": {
        "id": "9OGV9-iOAxgE",
        "colab_type": "code",
        "colab": {}
      },
      "cell_type": "code",
      "source": [
        "import preprocessed_mnist\n",
        "X_train, y_train, X_val, y_val, X_test, y_test = preprocessed_mnist.load_dataset()"
      ],
      "execution_count": 0,
      "outputs": []
    },
    {
      "metadata": {
        "id": "M4P5_vyFAxgG",
        "colab_type": "code",
        "colab": {
          "base_uri": "https://localhost:8080/",
          "height": 690
        },
        "outputId": "4af6713b-106f-46d5-c45c-1b6cc7c87d62"
      },
      "cell_type": "code",
      "source": [
        "# X contains rgb values divided by 255\n",
        "print(\"X_train [shape %s] sample patch:\\n\" % (str(X_train.shape)), X_train[1, 15:20, 5:10])\n",
        "print(\"A closeup of a sample patch:\")\n",
        "plt.imshow(X_train[1, 15:20, 5:10], cmap=\"Greys\")\n",
        "plt.show()\n",
        "print(\"And the whole sample:\")\n",
        "plt.imshow(X_train[1], cmap=\"Greys\")\n",
        "plt.show()\n",
        "print(\"y_train [shape %s] 10 samples:\\n\" % (str(y_train.shape)), y_train[:10])"
      ],
      "execution_count": 4,
      "outputs": [
        {
          "output_type": "stream",
          "text": [
            "X_train [shape (50000, 28, 28)] sample patch:\n",
            " [[0.         0.29803922 0.96470588 0.98823529 0.43921569]\n",
            " [0.         0.33333333 0.98823529 0.90196078 0.09803922]\n",
            " [0.         0.33333333 0.98823529 0.8745098  0.        ]\n",
            " [0.         0.33333333 0.98823529 0.56862745 0.        ]\n",
            " [0.         0.3372549  0.99215686 0.88235294 0.        ]]\n",
            "A closeup of a sample patch:\n"
          ],
          "name": "stdout"
        },
        {
          "output_type": "display_data",
          "data": {
            "image/png": "[encoded data removed]",
            "text/plain": [
              "<matplotlib.figure.Figure at 0x7f35407d6898>"
            ]
          },
          "metadata": {
            "tags": []
          }
        },
        {
          "output_type": "stream",
          "text": [
            "And the whole sample:\n"
          ],
          "name": "stdout"
        },
        {
          "output_type": "display_data",
          "data": {
            "image/png": "[encoded data removed]",
            "text/plain": [
              "<matplotlib.figure.Figure at 0x7f35407a2898>"
            ]
          },
          "metadata": {
            "tags": []
          }
        },
        {
          "output_type": "stream",
          "text": [
            "y_train [shape (50000,)] 10 samples:\n",
            " [5 0 4 1 9 2 1 3 1 4]\n"
          ],
          "name": "stdout"
        }
      ]
    },
    {
      "metadata": {
        "id": "VwoFkMSaAxgH",
        "colab_type": "code",
        "colab": {
          "base_uri": "https://localhost:8080/",
          "height": 52
        },
        "outputId": "4fe476d5-ef46-4193-d47f-1f276db40176"
      },
      "cell_type": "code",
      "source": [
        "# flatten images\n",
        "X_train_flat = X_train.reshape((X_train.shape[0], -1))\n",
        "print(X_train_flat.shape)\n",
        "\n",
        "X_val_flat = X_val.reshape((X_val.shape[0], -1))\n",
        "print(X_val_flat.shape)"
      ],
      "execution_count": 5,
      "outputs": [
        {
          "output_type": "stream",
          "text": [
            "(50000, 784)\n",
            "(10000, 784)\n"
          ],
          "name": "stdout"
        }
      ]
    },
    {
      "metadata": {
        "id": "l8vTs3F4AxgJ",
        "colab_type": "code",
        "colab": {
          "base_uri": "https://localhost:8080/",
          "height": 87
        },
        "outputId": "43d4c2c6-0556-419c-b923-1f7c6a9d50bf"
      },
      "cell_type": "code",
      "source": [
        "# one-hot encode the target\n",
        "y_train_oh = keras.utils.to_categorical(y_train, 10)\n",
        "y_val_oh = keras.utils.to_categorical(y_val, 10)\n",
        "\n",
        "print(y_train_oh.shape)\n",
        "print(y_train_oh[:3], y_train[:3])"
      ],
      "execution_count": 6,
      "outputs": [
        {
          "output_type": "stream",
          "text": [
            "(50000, 10)\n",
            "[[0. 0. 0. 0. 0. 1. 0. 0. 0. 0.]\n",
            " [1. 0. 0. 0. 0. 0. 0. 0. 0. 0.]\n",
            " [0. 0. 0. 0. 1. 0. 0. 0. 0. 0.]] [5 0 4]\n"
          ],
          "name": "stdout"
        }
      ]
    },
    {
      "metadata": {
        "id": "p3JMSN_GAxgL",
        "colab_type": "code",
        "colab": {}
      },
      "cell_type": "code",
      "source": [
        "# building a model with keras\n",
        "from keras.layers import Dense, Activation\n",
        "from keras.models import Sequential\n",
        "\n",
        "# we still need to clear a graph though\n",
        "s = reset_tf_session()\n",
        "\n",
        "model = Sequential()  # it is a feed-forward network without loops like in RNN\n",
        "model.add(Dense(256, input_shape=(784,)))  # the first layer must specify the input shape (replacing placeholders)\n",
        "model.add(Activation('sigmoid'))\n",
        "model.add(Dense(256))\n",
        "model.add(Activation('sigmoid'))\n",
        "model.add(Dense(10))\n",
        "model.add(Activation('softmax'))"
      ],
      "execution_count": 0,
      "outputs": []
    },
    {
      "metadata": {
        "id": "9rhGOpS6AxgO",
        "colab_type": "code",
        "colab": {
          "base_uri": "https://localhost:8080/",
          "height": 354
        },
        "outputId": "b6c7c38e-631d-4f74-db9e-d40be89e15cf"
      },
      "cell_type": "code",
      "source": [
        "# you can look at all layers and parameter count\n",
        "model.summary()"
      ],
      "execution_count": 8,
      "outputs": [
        {
          "output_type": "stream",
          "text": [
            "_________________________________________________________________\n",
            "Layer (type)                 Output Shape              Param #   \n",
            "=================================================================\n",
            "dense_1 (Dense)              (None, 256)               200960    \n",
            "_________________________________________________________________\n",
            "activation_1 (Activation)    (None, 256)               0         \n",
            "_________________________________________________________________\n",
            "dense_2 (Dense)              (None, 256)               65792     \n",
            "_________________________________________________________________\n",
            "activation_2 (Activation)    (None, 256)               0         \n",
            "_________________________________________________________________\n",
            "dense_3 (Dense)              (None, 10)                2570      \n",
            "_________________________________________________________________\n",
            "activation_3 (Activation)    (None, 10)                0         \n",
            "=================================================================\n",
            "Total params: 269,322\n",
            "Trainable params: 269,322\n",
            "Non-trainable params: 0\n",
            "_________________________________________________________________\n"
          ],
          "name": "stdout"
        }
      ]
    },
    {
      "metadata": {
        "id": "L9aAt7k0AxgQ",
        "colab_type": "code",
        "colab": {
          "base_uri": "https://localhost:8080/",
          "height": 143
        },
        "outputId": "bf5b980f-4784-4a81-dd82-1a547a7e6a50"
      },
      "cell_type": "code",
      "source": [
        "# now we \"compile\" the model specifying the loss and optimizer\n",
        "model.compile(\n",
        "    loss='categorical_crossentropy', # this is our cross-entropy\n",
        "    optimizer='adam',\n",
        "    metrics=['accuracy']  # report accuracy during training\n",
        ")"
      ],
      "execution_count": 9,
      "outputs": [
        {
          "output_type": "stream",
          "text": [
            "WARNING:tensorflow:From /usr/local/lib/python3.6/dist-packages/keras/backend/tensorflow_backend.py:2745: calling reduce_sum (from tensorflow.python.ops.math_ops) with keep_dims is deprecated and will be removed in a future version.\n",
            "Instructions for updating:\n",
            "keep_dims is deprecated, use keepdims instead\n",
            "WARNING:tensorflow:From /usr/local/lib/python3.6/dist-packages/keras/backend/tensorflow_backend.py:1299: calling reduce_mean (from tensorflow.python.ops.math_ops) with keep_dims is deprecated and will be removed in a future version.\n",
            "Instructions for updating:\n",
            "keep_dims is deprecated, use keepdims instead\n"
          ],
          "name": "stdout"
        }
      ]
    },
    {
      "metadata": {
        "id": "eTe1V4s4AxgS",
        "colab_type": "code",
        "colab": {
          "base_uri": "https://localhost:8080/",
          "height": 2878
        },
        "outputId": "9e25f6af-7b1f-4f6d-e7b3-69fb6888d704"
      },
      "cell_type": "code",
      "source": [
        "# and now we can fit the model with model.fit()\n",
        "# and we don't have to write loops and batching manually as in TensorFlow\n",
        "model.fit(\n",
        "    X_train_flat, \n",
        "    y_train_oh,\n",
        "    batch_size=512, \n",
        "    epochs=40,\n",
        "    validation_data=(X_val_flat, y_val_oh),\n",
        "    callbacks=[keras_utils.TqdmProgressCallback()],\n",
        "    verbose=0\n",
        ")"
      ],
      "execution_count": 10,
      "outputs": [
        {
          "output_type": "stream",
          "text": [
            "\n",
            "Epoch 1/40\n",
            "**************************************************\n",
            "loss: 1.2403; acc: 0.6787; val_loss: 0.4818; val_acc: 0.8854\n",
            "\n",
            "Epoch 2/40\n",
            "**************************************************\n",
            "loss: 0.3958; acc: 0.8931; val_loss: 0.2954; val_acc: 0.9179\n",
            "\n",
            "Epoch 3/40\n",
            "**************************************************\n",
            "loss: 0.2940; acc: 0.9158; val_loss: 0.2489; val_acc: 0.9276\n",
            "\n",
            "Epoch 4/40\n",
            "**************************************************\n",
            "loss: 0.2522; acc: 0.9255; val_loss: 0.2206; val_acc: 0.9359\n",
            "\n",
            "Epoch 5/40\n",
            "**************************************************\n",
            "loss: 0.2209; acc: 0.9349; val_loss: 0.1980; val_acc: 0.9434\n",
            "\n",
            "Epoch 6/40\n",
            "**************************************************\n",
            "loss: 0.1961; acc: 0.9424; val_loss: 0.1799; val_acc: 0.9493\n",
            "\n",
            "Epoch 7/40\n",
            "**************************************************\n",
            "loss: 0.1755; acc: 0.9489; val_loss: 0.1666; val_acc: 0.9521\n",
            "\n",
            "Epoch 8/40\n",
            "**************************************************\n",
            "loss: 0.1583; acc: 0.9538; val_loss: 0.1498; val_acc: 0.9579\n",
            "\n",
            "Epoch 9/40\n",
            "**************************************************\n",
            "loss: 0.1419; acc: 0.9588; val_loss: 0.1436; val_acc: 0.9599\n",
            "\n",
            "Epoch 10/40\n",
            "**************************************************\n",
            "loss: 0.1288; acc: 0.9630; val_loss: 0.1319; val_acc: 0.9626\n",
            "\n",
            "Epoch 11/40\n",
            "**************************************************\n",
            "loss: 0.1175; acc: 0.9658; val_loss: 0.1260; val_acc: 0.9645\n",
            "\n",
            "Epoch 12/40\n",
            "**************************************************\n",
            "loss: 0.1065; acc: 0.9689; val_loss: 0.1199; val_acc: 0.9665\n",
            "\n",
            "Epoch 13/40\n",
            "**************************************************\n",
            "loss: 0.0959; acc: 0.9725; val_loss: 0.1108; val_acc: 0.9683\n",
            "\n",
            "Epoch 14/40\n",
            "**************************************************\n",
            "loss: 0.0875; acc: 0.9745; val_loss: 0.1058; val_acc: 0.9700\n",
            "\n",
            "Epoch 15/40\n",
            "**************************************************\n",
            "loss: 0.0795; acc: 0.9773; val_loss: 0.1026; val_acc: 0.9704\n",
            "\n",
            "Epoch 16/40\n",
            "**************************************************\n",
            "loss: 0.0724; acc: 0.9795; val_loss: 0.0988; val_acc: 0.9720\n",
            "\n",
            "Epoch 17/40\n",
            "**************************************************\n",
            "loss: 0.0660; acc: 0.9810; val_loss: 0.0921; val_acc: 0.9726\n",
            "\n",
            "Epoch 18/40\n",
            "**************************************************\n",
            "loss: 0.0594; acc: 0.9833; val_loss: 0.0882; val_acc: 0.9743\n",
            "\n",
            "Epoch 19/40\n",
            "**************************************************\n",
            "loss: 0.0543; acc: 0.9847; val_loss: 0.0871; val_acc: 0.9733\n",
            "\n",
            "Epoch 20/40\n",
            "**************************************************\n",
            "loss: 0.0492; acc: 0.9861; val_loss: 0.0856; val_acc: 0.9739\n",
            "\n",
            "Epoch 21/40\n",
            "**************************************************\n",
            "loss: 0.0444; acc: 0.9878; val_loss: 0.0877; val_acc: 0.9737\n",
            "\n",
            "Epoch 22/40\n",
            "**************************************************\n",
            "loss: 0.0400; acc: 0.9896; val_loss: 0.0809; val_acc: 0.9761\n",
            "\n",
            "Epoch 23/40\n",
            "**************************************************\n",
            "loss: 0.0369; acc: 0.9906; val_loss: 0.0847; val_acc: 0.9754\n",
            "\n",
            "Epoch 24/40\n",
            "**************************************************\n",
            "loss: 0.0330; acc: 0.9917; val_loss: 0.0801; val_acc: 0.9758\n",
            "\n",
            "Epoch 25/40\n",
            "**************************************************\n",
            "loss: 0.0300; acc: 0.9926; val_loss: 0.0796; val_acc: 0.9761\n",
            "\n",
            "Epoch 26/40\n",
            "**************************************************\n",
            "loss: 0.0266; acc: 0.9937; val_loss: 0.0771; val_acc: 0.9766\n",
            "\n",
            "Epoch 27/40\n",
            "**************************************************\n",
            "loss: 0.0239; acc: 0.9946; val_loss: 0.0777; val_acc: 0.9778\n",
            "\n",
            "Epoch 28/40\n",
            "**************************************************\n",
            "loss: 0.0215; acc: 0.9954; val_loss: 0.0757; val_acc: 0.9782\n",
            "\n",
            "Epoch 29/40\n",
            "**************************************************\n",
            "loss: 0.0193; acc: 0.9964; val_loss: 0.0752; val_acc: 0.9777\n",
            "\n",
            "Epoch 30/40\n",
            "**************************************************\n",
            "loss: 0.0178; acc: 0.9966; val_loss: 0.0758; val_acc: 0.9782\n",
            "\n",
            "Epoch 31/40\n",
            "**************************************************\n",
            "loss: 0.0157; acc: 0.9971; val_loss: 0.0755; val_acc: 0.9781\n",
            "\n",
            "Epoch 32/40\n",
            "**************************************************\n",
            "loss: 0.0141; acc: 0.9980; val_loss: 0.0787; val_acc: 0.9783\n",
            "\n",
            "Epoch 33/40\n",
            "**************************************************\n",
            "loss: 0.0128; acc: 0.9978; val_loss: 0.0771; val_acc: 0.9790\n",
            "\n",
            "Epoch 34/40\n",
            "**************************************************\n",
            "loss: 0.0112; acc: 0.9986; val_loss: 0.0757; val_acc: 0.9778\n",
            "\n",
            "Epoch 35/40\n",
            "**************************************************\n",
            "loss: 0.0102; acc: 0.9985; val_loss: 0.0767; val_acc: 0.9790\n",
            "\n",
            "Epoch 36/40\n",
            "**************************************************\n",
            "loss: 0.0094; acc: 0.9989; val_loss: 0.0767; val_acc: 0.9789\n",
            "\n",
            "Epoch 37/40\n",
            "**************************************************\n",
            "loss: 0.0081; acc: 0.9991; val_loss: 0.0781; val_acc: 0.9790\n",
            "\n",
            "Epoch 38/40\n",
            "**************************************************\n",
            "loss: 0.0072; acc: 0.9994; val_loss: 0.0776; val_acc: 0.9792\n",
            "\n",
            "Epoch 39/40\n",
            "**************************************************\n",
            "loss: 0.0065; acc: 0.9994; val_loss: 0.0767; val_acc: 0.9791\n",
            "\n",
            "Epoch 40/40\n",
            "**************************************************\n",
            "loss: 0.0057; acc: 0.9996; val_loss: 0.0767; val_acc: 0.9798\n"
          ],
          "name": "stdout"
        },
        {
          "output_type": "execute_result",
          "data": {
            "text/plain": [
              "<keras.callbacks.History at 0x7f35407baa20>"
            ]
          },
          "metadata": {
            "tags": []
          },
          "execution_count": 10
        }
      ]
    },
    {
      "metadata": {
        "id": "Sc1tyLNJAxgV",
        "colab_type": "text"
      },
      "cell_type": "markdown",
      "source": [
        "# Here're the notes for those who want to play around here\n",
        "\n",
        "Here are some tips on what you could do:\n",
        "\n",
        " * __Network size__\n",
        "   * More neurons, \n",
        "   * More layers, ([docs](https://keras.io/))\n",
        "\n",
        "   * Other nonlinearities in the hidden layers\n",
        "     * tanh, relu, leaky relu, etc\n",
        "   * Larger networks may take more epochs to train, so don't discard your net just because it could didn't beat the baseline in 5 epochs.\n",
        "\n",
        "\n",
        " * __Early Stopping__\n",
        "   * Training for 100 epochs regardless of anything is probably a bad idea.\n",
        "   * Some networks converge over 5 epochs, others - over 500.\n",
        "   * Way to go: stop when validation score is 10 iterations past maximum\n",
        "     \n",
        "\n",
        " * __Faster optimization__\n",
        "   * rmsprop, nesterov_momentum, adam, adagrad and so on.\n",
        "     * Converge faster and sometimes reach better optima\n",
        "     * It might make sense to tweak learning rate/momentum, other learning parameters, batch size and number of epochs\n",
        "\n",
        "\n",
        " * __Regularize__ to prevent overfitting\n",
        "   * Add some L2 weight norm to the loss function, theano will do the rest\n",
        "     * Can be done manually or via - https://keras.io/regularizers/\n",
        "   \n",
        "   \n",
        " * __Data augmemntation__ - getting 5x as large dataset for free is a great deal\n",
        "   * https://keras.io/preprocessing/image/\n",
        "   * Zoom-in+slice = move\n",
        "   * Rotate+zoom(to remove black stripes)\n",
        "   * any other perturbations\n",
        "   * Simple way to do that (if you have PIL/Image): \n",
        "     * ```from scipy.misc import imrotate,imresize```\n",
        "     * and a few slicing\n",
        "   * Stay realistic. There's usually no point in flipping dogs upside down as that is not the way you usually see them."
      ]
    },
    {
      "metadata": {
        "id": "u7WjvOTSAxgW",
        "colab_type": "code",
        "colab": {}
      },
      "cell_type": "code",
      "source": [
        ""
      ],
      "execution_count": 0,
      "outputs": []
    }
  ]
}