{
  "nbformat": 4,
  "nbformat_minor": 0,
  "metadata": {
    "colab": {
      "name": "“intro_to_tensorflow.ipynb”的副本",
      "version": "0.3.2",
      "provenance": []
    },
    "kernelspec": {
      "display_name": "Python 3",
      "language": "python",
      "name": "python3"
    },
    "accelerator": "GPU"
  },
  "cells": [
    {
      "metadata": {
        "id": "WpYRmDFq1ZDc",
        "colab_type": "code",
        "colab": {
          "base_uri": "https://localhost:8080/",
          "height": 153
        },
        "outputId": "94e525f2-7463-41a9-b719-e9b853df5d2d"
      },
      "cell_type": "code",
      "source": [
        "! wget https://raw.githubusercontent.com/hse-aml/intro-to-dl/master/setup_google_colab.py -O setup_google_colab.py\n",
        "import setup_google_colab\n",
        "setup_google_colab.setup_week2_v2()  # change to the week you're working on\n",
        "# note on week 2: select setup_week2_v2() if you've started the course after August 13, 2018,\n",
        "# otherwise call setup_week2()."
      ],
      "execution_count": 1,
      "outputs": [
        {
          "output_type": "stream",
          "text": [
            "\n",
            "Redirecting output to ‘wget-log’.\n",
            "**************************************************\n",
            "inception_v3_weights_tf_dim_ordering_tf_kernels_notop.h5\n",
            "**************************************************\n",
            "cifar-10-batches-py.tar.gz\n",
            "**************************************************\n",
            "mnist.npz\n"
          ],
          "name": "stdout"
        }
      ]
    },
    {
      "metadata": {
        "id": "QUJwJQz40zy7",
        "colab_type": "text",
        "slideshow": {
          "slide_type": "slide"
        }
      },
      "cell_type": "markdown",
      "source": [
        "# Intro to TensorFlow\n",
        "\n",
        "This notebook covers the basics of TF and shows you an animation with gradient descent trajectory.\n",
        "<img src=\"https://github.com/hse-aml/intro-to-dl/blob/master/week2/v2/images/gradient_descent.png?raw=1\" style=\"width:50%\">"
      ]
    },
    {
      "metadata": {
        "id": "vE7SHXHy0zy-",
        "colab_type": "text"
      },
      "cell_type": "markdown",
      "source": [
        "# TensorBoard"
      ]
    },
    {
      "metadata": {
        "id": "a3kCBtGq0zy-",
        "colab_type": "text"
      },
      "cell_type": "markdown",
      "source": [
        "**Plase note that if you are running on the Coursera platform, you won't be able to access the tensorboard instance due to the network setup there.**\n",
        "\n",
        "Run `tensorboard --logdir=./tensorboard_logs --port=7007` in bash.\n",
        "\n",
        "If you run the notebook locally, you should be able to access TensorBoard on http://127.0.0.1:7007/"
      ]
    },
    {
      "metadata": {
        "id": "tK3DWBXS0zy_",
        "colab_type": "code",
        "colab": {
          "base_uri": "https://localhost:8080/",
          "height": 34
        },
        "outputId": "4cbc8130-05d9-4a21-e208-b79eb1da2b95"
      },
      "cell_type": "code",
      "source": [
        "import tensorflow as tf\n",
        "import sys\n",
        "sys.path.append(\"../..\")\n",
        "from keras_utils import reset_tf_session\n",
        "s = reset_tf_session()\n",
        "print(\"We're using TF\", tf.__version__)"
      ],
      "execution_count": 3,
      "outputs": [
        {
          "output_type": "stream",
          "text": [
            "We're using TF 1.10.1\n"
          ],
          "name": "stdout"
        }
      ]
    },
    {
      "metadata": {
        "id": "nJJMoRcl0zzE",
        "colab_type": "text"
      },
      "cell_type": "markdown",
      "source": [
        "# Warming up\n",
        "For starters, let's implement a python function that computes the sum of squares of numbers from 0 to N-1."
      ]
    },
    {
      "metadata": {
        "id": "uEy3uCmF0zzF",
        "colab_type": "code",
        "colab": {}
      },
      "cell_type": "code",
      "source": [
        "import numpy as np\n",
        "\n",
        "def sum_python(N):\n",
        "    return np.sum(np.arange(N)**2)"
      ],
      "execution_count": 0,
      "outputs": []
    },
    {
      "metadata": {
        "id": "DuCqwlc90zzH",
        "colab_type": "code",
        "colab": {
          "base_uri": "https://localhost:8080/",
          "height": 68
        },
        "outputId": "bb5e9a39-3ecb-4254-b391-c47179be0e7b"
      },
      "cell_type": "code",
      "source": [
        "%%time\n",
        "sum_python(10**5)"
      ],
      "execution_count": 5,
      "outputs": [
        {
          "output_type": "stream",
          "text": [
            "CPU times: user 0 ns, sys: 2.67 ms, total: 2.67 ms\n",
            "Wall time: 2.79 ms\n"
          ],
          "name": "stdout"
        },
        {
          "output_type": "execute_result",
          "data": {
            "text/plain": [
              "333328333350000"
            ]
          },
          "metadata": {
            "tags": []
          },
          "execution_count": 5
        }
      ]
    },
    {
      "metadata": {
        "id": "GSpeGFTZ0zzJ",
        "colab_type": "text"
      },
      "cell_type": "markdown",
      "source": [
        "# Tensoflow teaser\n",
        "\n",
        "Doing the very same thing"
      ]
    },
    {
      "metadata": {
        "id": "ol9zkcpa0zzJ",
        "colab_type": "code",
        "colab": {}
      },
      "cell_type": "code",
      "source": [
        "# An integer parameter\n",
        "N = tf.placeholder('int64', name=\"input_to_your_function\")\n",
        "\n",
        "# A recipe on how to produce the same result\n",
        "result = tf.reduce_sum(tf.range(N)**2)"
      ],
      "execution_count": 0,
      "outputs": []
    },
    {
      "metadata": {
        "id": "GYFWM5SE0zzL",
        "colab_type": "code",
        "colab": {
          "base_uri": "https://localhost:8080/",
          "height": 34
        },
        "outputId": "19f09138-62b4-4273-9417-ae72467445f1"
      },
      "cell_type": "code",
      "source": [
        "# just a graph definition\n",
        "result"
      ],
      "execution_count": 8,
      "outputs": [
        {
          "output_type": "execute_result",
          "data": {
            "text/plain": [
              "<tf.Tensor 'Sum_1:0' shape=() dtype=int64>"
            ]
          },
          "metadata": {
            "tags": []
          },
          "execution_count": 8
        }
      ]
    },
    {
      "metadata": {
        "id": "14VVDEjR0zzN",
        "colab_type": "code",
        "colab": {
          "base_uri": "https://localhost:8080/",
          "height": 68
        },
        "outputId": "e808e382-1cc9-457a-d874-95c5113f8259"
      },
      "cell_type": "code",
      "source": [
        "%%time\n",
        "# actually executing\n",
        "result.eval({N: 10**5})"
      ],
      "execution_count": 9,
      "outputs": [
        {
          "output_type": "stream",
          "text": [
            "CPU times: user 5.91 ms, sys: 3.02 ms, total: 8.93 ms\n",
            "Wall time: 10.5 ms\n"
          ],
          "name": "stdout"
        },
        {
          "output_type": "execute_result",
          "data": {
            "text/plain": [
              "333328333350000"
            ]
          },
          "metadata": {
            "tags": []
          },
          "execution_count": 9
        }
      ]
    },
    {
      "metadata": {
        "id": "lOV6Qd9l0zzP",
        "colab_type": "code",
        "colab": {}
      },
      "cell_type": "code",
      "source": [
        "# logger for tensorboard\n",
        "writer = tf.summary.FileWriter(\"tensorboard_logs\", graph=s.graph)"
      ],
      "execution_count": 0,
      "outputs": []
    },
    {
      "metadata": {
        "id": "whFjVia10zzR",
        "colab_type": "text"
      },
      "cell_type": "markdown",
      "source": [
        "# How does it work?\n",
        "1. Define placeholders where you'll send inputs\n",
        "2. Make a symbolic graph: a recipe for mathematical transformation of those placeholders\n",
        "3. Compute outputs of your graph with particular values for each placeholder\n",
        "  * `output.eval({placeholder: value})`\n",
        "  * `s.run(output, {placeholder: value})`\n",
        "\n",
        "So far there are two main entities: \"placeholder\" and \"transformation\" (operation output)\n",
        "* Both can be numbers, vectors, matrices, tensors, etc.\n",
        "* Both can be int32/64, floats, booleans (uint8) of various size.\n",
        "\n",
        "* You can define new transformations as an arbitrary operation on placeholders and other transformations\n",
        " * `tf.reduce_sum(tf.arange(N)**2)` are 3 sequential transformations of placeholder `N`\n",
        " * There's a tensorflow symbolic version for every numpy function\n",
        "   * `a+b, a/b, a**b, ...` behave just like in numpy\n",
        "   * `np.mean` -> `tf.reduce_mean`\n",
        "   * `np.arange` -> `tf.range`\n",
        "   * `np.cumsum` -> `tf.cumsum`\n",
        "   * If you can't find the operation you need, see the [docs](https://www.tensorflow.org/versions/r1.3/api_docs/python).\n",
        "   \n",
        "`tf.contrib` has many high-level features, may be worth a look."
      ]
    },
    {
      "metadata": {
        "id": "uringJmV0zzS",
        "colab_type": "code",
        "colab": {}
      },
      "cell_type": "code",
      "source": [
        "with tf.name_scope(\"Placeholders_examples\"):\n",
        "    # Default placeholder that can be arbitrary float32\n",
        "    # scalar, vertor, matrix, etc.\n",
        "    arbitrary_input = tf.placeholder('float32')\n",
        "\n",
        "    # Input vector of arbitrary length\n",
        "    input_vector = tf.placeholder('float32', shape=(None,))\n",
        "\n",
        "    # Input vector that _must_ have 10 elements and integer type\n",
        "    fixed_vector = tf.placeholder('int32', shape=(10,))\n",
        "\n",
        "    # Matrix of arbitrary n_rows and 15 columns\n",
        "    # (e.g. a minibatch of your data table)\n",
        "    input_matrix = tf.placeholder('float32', shape=(None, 15))\n",
        "    \n",
        "    # You can generally use None whenever you don't need a specific shape\n",
        "    input1 = tf.placeholder('float64', shape=(None, 100, None))\n",
        "    input2 = tf.placeholder('int32', shape=(None, None, 3, 224, 224))\n",
        "\n",
        "    # elementwise multiplication\n",
        "    double_the_vector = input_vector*2\n",
        "\n",
        "    # elementwise cosine\n",
        "    elementwise_cosine = tf.cos(input_vector)\n",
        "\n",
        "    # difference between squared vector and vector itself plus one\n",
        "    vector_squares = input_vector**2 - input_vector + 1"
      ],
      "execution_count": 0,
      "outputs": []
    },
    {
      "metadata": {
        "id": "ZotkiQlp0zzY",
        "colab_type": "code",
        "colab": {}
      },
      "cell_type": "code",
      "source": [
        "my_vector =  tf.placeholder('float32', shape=(None,), name=\"VECTOR_1\")\n",
        "my_vector2 = tf.placeholder('float32', shape=(None,))\n",
        "my_transformation = my_vector * my_vector2 / (tf.sin(my_vector) + 1)"
      ],
      "execution_count": 0,
      "outputs": []
    },
    {
      "metadata": {
        "id": "0QrwPHg40zzb",
        "colab_type": "code",
        "colab": {
          "base_uri": "https://localhost:8080/",
          "height": 34
        },
        "outputId": "9e6f140f-b15b-4e0f-e0c7-d642613626d5"
      },
      "cell_type": "code",
      "source": [
        "print(my_transformation)"
      ],
      "execution_count": 13,
      "outputs": [
        {
          "output_type": "stream",
          "text": [
            "Tensor(\"truediv:0\", shape=(?,), dtype=float32)\n"
          ],
          "name": "stdout"
        }
      ]
    },
    {
      "metadata": {
        "id": "lga7oHSY0zzd",
        "colab_type": "code",
        "colab": {
          "base_uri": "https://localhost:8080/",
          "height": 68
        },
        "outputId": "dec82f0f-49ba-4347-e9ec-436feae22d0c"
      },
      "cell_type": "code",
      "source": [
        "dummy = np.arange(5).astype('float32')\n",
        "print(dummy)\n",
        "my_transformation.eval({my_vector: dummy, my_vector2: dummy[::-1]})"
      ],
      "execution_count": 14,
      "outputs": [
        {
          "output_type": "stream",
          "text": [
            "[0. 1. 2. 3. 4.]\n"
          ],
          "name": "stdout"
        },
        {
          "output_type": "execute_result",
          "data": {
            "text/plain": [
              "array([0.       , 1.6291324, 2.0950115, 2.6289961, 0.       ],\n",
              "      dtype=float32)"
            ]
          },
          "metadata": {
            "tags": []
          },
          "execution_count": 14
        }
      ]
    },
    {
      "metadata": {
        "id": "na-iqvvW0zzg",
        "colab_type": "code",
        "colab": {}
      },
      "cell_type": "code",
      "source": [
        "writer.add_graph(my_transformation.graph)\n",
        "writer.flush()"
      ],
      "execution_count": 0,
      "outputs": []
    },
    {
      "metadata": {
        "id": "4LWCe4Ty0zzh",
        "colab_type": "text"
      },
      "cell_type": "markdown",
      "source": [
        "TensorBoard allows writing scalars, images, audio, histogram. You can read more on tensorboard usage [here](https://www.tensorflow.org/get_started/graph_viz)."
      ]
    },
    {
      "metadata": {
        "id": "VAR0YDbq0zzh",
        "colab_type": "text"
      },
      "cell_type": "markdown",
      "source": [
        "# Summary\n",
        "* Tensorflow is based on computation graphs\n",
        "* A graph consists of placeholders and transformations"
      ]
    },
    {
      "metadata": {
        "id": "P_JUuMdp0zzj",
        "colab_type": "text"
      },
      "cell_type": "markdown",
      "source": [
        "# Loss function: Mean Squared Error\n",
        "\n",
        "Loss function must be a part of the graph as well, so that we can do backpropagation."
      ]
    },
    {
      "metadata": {
        "id": "7IaYDg8a0zzj",
        "colab_type": "code",
        "colab": {}
      },
      "cell_type": "code",
      "source": [
        "with tf.name_scope(\"MSE\"):\n",
        "    y_true = tf.placeholder(\"float32\", shape=(None,), name=\"y_true\")\n",
        "    y_predicted = tf.placeholder(\"float32\", shape=(None,), name=\"y_predicted\")\n",
        "    # Implement MSE(y_true, y_predicted), use tf.reduce_mean(...)\n",
        "    mse = tf.reduce_mean((y_predicted - y_true) ** 2 )\n",
        "\n",
        "def compute_mse(vector1, vector2):\n",
        "    return mse.eval({y_true: vector1, y_predicted: vector2})"
      ],
      "execution_count": 0,
      "outputs": []
    },
    {
      "metadata": {
        "id": "NtvUF-Ed0zzl",
        "colab_type": "code",
        "colab": {}
      },
      "cell_type": "code",
      "source": [
        "writer.add_graph(mse.graph)\n",
        "writer.flush()"
      ],
      "execution_count": 0,
      "outputs": []
    },
    {
      "metadata": {
        "id": "rBoAhriE0zzm",
        "colab_type": "code",
        "colab": {}
      },
      "cell_type": "code",
      "source": [
        "# Rigorous local testing of MSE implementation\n",
        "import sklearn.metrics\n",
        "for n in [1, 5, 10, 10**3]:\n",
        "    elems = [np.arange(n), np.arange(n, 0, -1), np.zeros(n),\n",
        "             np.ones(n), np.random.random(n), np.random.randint(100, size=n)]\n",
        "    for el in elems:\n",
        "        for el_2 in elems:\n",
        "            true_mse = np.array(sklearn.metrics.mean_squared_error(el, el_2))\n",
        "            my_mse = compute_mse(el, el_2)\n",
        "            if not np.allclose(true_mse, my_mse):\n",
        "                print('mse(%s,%s)' % (el, el_2))\n",
        "                print(\"should be: %f, but your function returned %f\" % (true_mse, my_mse))\n",
        "                raise ValueError('Wrong result')"
      ],
      "execution_count": 0,
      "outputs": []
    },
    {
      "metadata": {
        "id": "zAiyC-ue0zzo",
        "colab_type": "text"
      },
      "cell_type": "markdown",
      "source": [
        "# Variables\n",
        "\n",
        "Placeholder and transformation values are not stored in the graph once the execution is finished. This isn't too comfortable if you want your model to have parameters (e.g. network weights) that are always present, but can change their value over time.\n",
        "\n",
        "Tensorflow solves this with `tf.Variable` objects.\n",
        "* You can assign variable a value at any time in your graph\n",
        "* Unlike placeholders, there's no need to explicitly pass values to variables when `s.run(...)`-ing\n",
        "* You can use variables the same way you use transformations \n",
        " "
      ]
    },
    {
      "metadata": {
        "id": "CNQ4ksbK0zzo",
        "colab_type": "code",
        "colab": {}
      },
      "cell_type": "code",
      "source": [
        "# Creating a shared variable\n",
        "shared_vector_1 = tf.Variable(initial_value=np.ones(5),\n",
        "                              name=\"example_variable\")"
      ],
      "execution_count": 0,
      "outputs": []
    },
    {
      "metadata": {
        "id": "LzAnXfZo0zzq",
        "colab_type": "code",
        "colab": {
          "base_uri": "https://localhost:8080/",
          "height": 35
        },
        "outputId": "1bc9e1f7-df7e-4c86-fa28-8b2a47ea2343"
      },
      "cell_type": "code",
      "source": [
        "# Initialize variable(s) with initial values\n",
        "s.run(tf.global_variables_initializer())\n",
        "\n",
        "# Evaluating the shared variable\n",
        "print(\"Initial value\", s.run(shared_vector_1))"
      ],
      "execution_count": 35,
      "outputs": [
        {
          "output_type": "stream",
          "text": [
            "Initial value [1. 1. 1. 1. 1.]\n"
          ],
          "name": "stdout"
        }
      ]
    },
    {
      "metadata": {
        "id": "WTBt4qdK0zzt",
        "colab_type": "code",
        "colab": {
          "base_uri": "https://localhost:8080/",
          "height": 35
        },
        "outputId": "55a3e750-4023-4da2-ab36-284c798b05ac"
      },
      "cell_type": "code",
      "source": [
        "# Setting a new value\n",
        "s.run(shared_vector_1.assign(np.arange(5)))\n",
        "\n",
        "# Getting that new value\n",
        "print(\"New value\", s.run(shared_vector_1))"
      ],
      "execution_count": 36,
      "outputs": [
        {
          "output_type": "stream",
          "text": [
            "New value [0. 1. 2. 3. 4.]\n"
          ],
          "name": "stdout"
        }
      ]
    },
    {
      "metadata": {
        "id": "4tzj6BPE0zzv",
        "colab_type": "text"
      },
      "cell_type": "markdown",
      "source": [
        "# tf.gradients - why graphs matter\n",
        "* Tensorflow can compute derivatives and gradients automatically using the computation graph\n",
        "* True to its name it can manage matrix derivatives\n",
        "* Gradients are computed as a product of elementary derivatives via the chain rule:\n",
        "\n",
        "$$ {\\partial f(g(x)) \\over \\partial x} = {\\partial f(g(x)) \\over \\partial g(x)}\\cdot {\\partial g(x) \\over \\partial x} $$\n",
        "\n",
        "It can get you the derivative of any graph as long as it knows how to differentiate elementary operations"
      ]
    },
    {
      "metadata": {
        "id": "a24r2wbp0zzv",
        "colab_type": "code",
        "colab": {}
      },
      "cell_type": "code",
      "source": [
        "my_scalar = tf.placeholder('float32')\n",
        "\n",
        "scalar_squared = my_scalar**2\n",
        "\n",
        "# A derivative of scalar_squared by my_scalar\n",
        "derivative = tf.gradients(scalar_squared, [my_scalar, ])"
      ],
      "execution_count": 0,
      "outputs": []
    },
    {
      "metadata": {
        "id": "S9wU15lY0zzx",
        "colab_type": "code",
        "colab": {
          "base_uri": "https://localhost:8080/",
          "height": 35
        },
        "outputId": "6f6c0f57-83ef-4bbd-d26c-494d851e5c87"
      },
      "cell_type": "code",
      "source": [
        "derivative"
      ],
      "execution_count": 38,
      "outputs": [
        {
          "output_type": "execute_result",
          "data": {
            "text/plain": [
              "[<tf.Tensor 'gradients/pow_2_grad/Reshape:0' shape=<unknown> dtype=float32>]"
            ]
          },
          "metadata": {
            "tags": []
          },
          "execution_count": 38
        }
      ]
    },
    {
      "metadata": {
        "id": "7lrPe9nc0zzy",
        "colab_type": "code",
        "colab": {
          "base_uri": "https://localhost:8080/",
          "height": 265
        },
        "outputId": "dae47e01-822b-49dc-ae41-af6ddd847f18"
      },
      "cell_type": "code",
      "source": [
        "import matplotlib.pyplot as plt\n",
        "%matplotlib inline\n",
        "\n",
        "x = np.linspace(-3, 3)\n",
        "x_squared, x_squared_der = s.run([scalar_squared, derivative[0]],\n",
        "                                 {my_scalar:x})\n",
        "\n",
        "plt.plot(x, x_squared,label=\"$x^2$\")\n",
        "plt.plot(x, x_squared_der, label=r\"$\\frac{dx^2}{dx}$\")\n",
        "plt.legend();"
      ],
      "execution_count": 39,
      "outputs": [
        {
          "output_type": "display_data",
          "data": {
            "image/png": "[encoded data removed]",
            "text/plain": [
              "<matplotlib.figure.Figure at 0x7f9d0f016828>"
            ]
          },
          "metadata": {
            "tags": []
          }
        }
      ]
    },
    {
      "metadata": {
        "id": "jAzyWq_q0zzz",
        "colab_type": "text"
      },
      "cell_type": "markdown",
      "source": [
        "# Why that rocks"
      ]
    },
    {
      "metadata": {
        "id": "wZLktuPx0zz0",
        "colab_type": "code",
        "colab": {}
      },
      "cell_type": "code",
      "source": [
        "my_vector = tf.placeholder('float32', [None])\n",
        "# Compute the gradient of the next weird function over my_scalar and my_vector\n",
        "# Warning! Trying to understand the meaning of that function may result in permanent brain damage\n",
        "weird_psychotic_function = tf.reduce_mean(\n",
        "    (my_vector+my_scalar)**(1+tf.nn.moments(my_vector,[0])[1]) + \n",
        "    1./ tf.atan(my_scalar))/(my_scalar**2 + 1) + 0.01*tf.sin(\n",
        "    2*my_scalar**1.5)*(tf.reduce_sum(my_vector)* my_scalar**2\n",
        "                      )*tf.exp((my_scalar-4)**2)/(\n",
        "    1+tf.exp((my_scalar-4)**2))*(1.-(tf.exp(-(my_scalar-4)**2)\n",
        "                                    )/(1+tf.exp(-(my_scalar-4)**2)))**2\n",
        "\n",
        "der_by_scalar = tf.gradients(weird_psychotic_function, my_scalar)\n",
        "der_by_vector = tf.gradients(weird_psychotic_function, my_vector)"
      ],
      "execution_count": 0,
      "outputs": []
    },
    {
      "metadata": {
        "id": "9Qr6Te8D0zz3",
        "colab_type": "code",
        "colab": {
          "base_uri": "https://localhost:8080/",
          "height": 265
        },
        "outputId": "7dce087c-b0bf-45e6-bb69-262e686d3926"
      },
      "cell_type": "code",
      "source": [
        "# Plotting the derivative\n",
        "scalar_space = np.linspace(1, 7, 100)\n",
        "\n",
        "y = [s.run(weird_psychotic_function, {my_scalar:x, my_vector:[1, 2, 3]})\n",
        "     for x in scalar_space]\n",
        "\n",
        "plt.plot(scalar_space, y, label='function')\n",
        "\n",
        "y_der_by_scalar = [s.run(der_by_scalar,\n",
        "                         {my_scalar:x, my_vector:[1, 2, 3]})\n",
        "                   for x in scalar_space]\n",
        "\n",
        "plt.plot(scalar_space, y_der_by_scalar, label='derivative')\n",
        "plt.grid()\n",
        "plt.legend();"
      ],
      "execution_count": 41,
      "outputs": [
        {
          "output_type": "display_data",
          "data": {
            "image/png": "[encoded data removed]",
            "text/plain": [
              "<matplotlib.figure.Figure at 0x7f9ca8abbc18>"
            ]
          },
          "metadata": {
            "tags": []
          }
        }
      ]
    },
    {
      "metadata": {
        "id": "vuFyu7kW0zz4",
        "colab_type": "text"
      },
      "cell_type": "markdown",
      "source": [
        "# Almost done - optimizers\n",
        "\n",
        "While you can perform gradient descent by hand with automatic gradients from above, tensorflow also has some optimization methods implemented for you. Recall momentum & rmsprop?"
      ]
    },
    {
      "metadata": {
        "id": "KRyAJ9qG0zz4",
        "colab_type": "code",
        "colab": {}
      },
      "cell_type": "code",
      "source": [
        "y_guess = tf.Variable(np.zeros(2, dtype='float32'))\n",
        "y_true = tf.range(1, 3, dtype='float32')\n",
        "\n",
        "loss = tf.reduce_mean((y_guess - y_true + 0.5*tf.random_normal([2]))**2) \n",
        "\n",
        "step = tf.train.MomentumOptimizer(0.03, 0.5).minimize(loss, var_list=y_guess)"
      ],
      "execution_count": 0,
      "outputs": []
    },
    {
      "metadata": {
        "id": "bQm-XnzI0zz7",
        "colab_type": "text"
      },
      "cell_type": "markdown",
      "source": [
        "Let's draw a trajectory of a gradient descent in 2D"
      ]
    },
    {
      "metadata": {
        "id": "a1uSfJsn0zz7",
        "colab_type": "code",
        "colab": {
          "base_uri": "https://localhost:8080/",
          "height": 269
        },
        "outputId": "8da38df9-9ac4-4f02-ea33-581f48d9f0e8"
      },
      "cell_type": "code",
      "source": [
        "from matplotlib import animation, rc\n",
        "import matplotlib_utils\n",
        "from IPython.display import HTML, display_html\n",
        "\n",
        "# nice figure settings\n",
        "fig, ax = plt.subplots()\n",
        "y_true_value = s.run(y_true)\n",
        "level_x = np.arange(0, 2, 0.02)\n",
        "level_y = np.arange(0, 3, 0.02)\n",
        "X, Y = np.meshgrid(level_x, level_y)\n",
        "Z = (X - y_true_value[0])**2 + (Y - y_true_value[1])**2\n",
        "ax.set_xlim(-0.02, 2)\n",
        "ax.set_ylim(-0.02, 3)\n",
        "s.run(tf.global_variables_initializer())\n",
        "ax.scatter(*s.run(y_true), c='red')\n",
        "contour = ax.contour(X, Y, Z, 10)\n",
        "ax.clabel(contour, inline=1, fontsize=10)\n",
        "line, = ax.plot([], [], lw=2)\n",
        "\n",
        "# start animation with empty trajectory\n",
        "def init():\n",
        "    line.set_data([], [])\n",
        "    return (line,)\n",
        "\n",
        "trajectory = [s.run(y_guess)]\n",
        "\n",
        "# one animation step (make one GD step)\n",
        "def animate(i):\n",
        "    s.run(step)\n",
        "    trajectory.append(s.run(y_guess))\n",
        "    line.set_data(*zip(*trajectory))\n",
        "    return (line,)\n",
        "\n",
        "anim = animation.FuncAnimation(fig, animate, init_func=init,\n",
        "                               frames=100, interval=20, blit=True)"
      ],
      "execution_count": 43,
      "outputs": [
        {
          "output_type": "display_data",
          "data": {
            "image/png": "[encoded data removed]",
            "text/plain": [
              "<matplotlib.figure.Figure at 0x7f9ca7dc82e8>"
            ]
          },
          "metadata": {
            "tags": []
          }
        }
      ]
    },
    {
      "metadata": {
        "id": "IFwj5SLg0zz-",
        "colab_type": "code",
        "colab": {
          "base_uri": "https://localhost:8080/",
          "height": 309
        },
        "outputId": "2f98ad81-94c2-4ddb-e4f0-ecf7a849a177"
      },
      "cell_type": "code",
      "source": [
        "try:\n",
        "    display_html(HTML(anim.to_html5_video()))\n",
        "except (RuntimeError, KeyError):\n",
        "    # In case the build-in renderers are unaviable, fall back to\n",
        "    # a custom one, that doesn't require external libraries\n",
        "    anim.save(None, writer=matplotlib_utils.SimpleMovieWriter(0.001))"
      ],
      "execution_count": 44,
      "outputs": [
        {
          "output_type": "display_data",
          "data": {
            "text/html": [
              "<img src=\"data:image/jpeg;base64,/9j/4AAQSkZJRgABAQEASABIAAD/2wBDAAIBAQEBAQIBAQECAgICAgQDAgICAgUEBAMEBgUGBgYFBgYGBwkIBgcJBwYGCAsICQoKCgoKBggLDAsKDAkKCgr/2wBDAQICAgICAgUDAwUKBwYHCgoKCgoKCgoKCgoKCgoKCgoKCgoKCgoKCgoKCgoKCgoKCgoKCgoKCgoKCgoKCgoKCgr/wAARCAEgAbADASIAAhEBAxEB/8QAHwAAAQUBAQEBAQEAAAAAAAAAAAECAwQFBgcICQoL/8QAtRAAAgEDAwIEAwUFBAQAAAF9AQIDAAQRBRIhMUEGE1FhByJxFDKBkaEII0KxwRVS0fAkM2JyggkKFhcYGRolJicoKSo0NTY3ODk6Q0RFRkdISUpTVFVWV1hZWmNkZWZnaGlqc3R1dnd4eXqDhIWGh4iJipKTlJWWl5iZmqKjpKWmp6ipqrKztLW2t7i5usLDxMXGx8jJytLT1NXW19jZ2uHi4%2BTl5ufo6erx8vP09fb3%2BPn6/8QAHwEAAwEBAQEBAQEBAQAAAAAAAAECAwQFBgcICQoL/8QAtREAAgECBAQDBAcFBAQAAQJ3AAECAxEEBSExBhJBUQdhcRMiMoEIFEKRobHBCSMzUvAVYnLRChYkNOEl8RcYGRomJygpKjU2Nzg5OkNERUZHSElKU1RVVldYWVpjZGVmZ2hpanN0dXZ3eHl6goOEhYaHiImKkpOUlZaXmJmaoqOkpaanqKmqsrO0tba3uLm6wsPExcbHyMnK0tPU1dbX2Nna4uPk5ebn6Onq8vP09fb3%2BPn6/9oADAMBAAIRAxEAPwD9/KKKKACiiigAooooAKKKKACiiigAooooAKKKKACiiigAooooAKKKKACiiigAooooAKKKKACiiigAooooAKKKKACiiigAooooAKKKKACiiigAooooAKKKKACiiigAooooAKKKKACiiigAooooAKKKKACiiigAornLb4wfCS8%2BIk/wgs/ij4cl8W20Hn3PhePW7dtRii2q29rYP5qrtdGyVxhlPcU/Q/ix8LPE3jXU/ht4b%2BJXh/UPEeioH1nQLHWYJb2wU4wZoFcyRA7l5YD7w9aAOgooooAKKKKACiiigAooooAKKKKACiiigAooooAKKKKACiiigAooooAKKKKACiiigAooooAKKKKACiiigAooooAKKKKACiiigAooooAKKKKACiiigAooooAKKKKACiiigAooooAKKKKAPlvx7dXd3%2B2N4I1jR/hX43s7bwr4z1KXxBpo8CyNopjn0a8iXxJBfWltm5vJHuLeyMLTylY5pi1ujRGdM39nnwR46svjj4P8LX3w81/T7/wV4m%2BIl/4r1%2B%2B0OeCyu7bVNXkntBDdugiuzciW3uSkTuY/sxWURuqqfraigCrrWpHSNMk1EQ%2BZ5e35N2M5YDr%2BNY154/8Askoi/sndmJHz5%2BPvIGx933xV/wAZ/wDItXP/AAD/ANDWuN1j/j7T/r1g/wDRSVvShGS1JbaN7/hZP/UF/wDJn/7Gmy/E6OCMyy6QFVRkk3PT/wAdrkZrySG9SB4cRuMCTP8AF6YqheRS27zRtJCzTPhN7EyFWPAHPQHt6CrdOmugJs7OT4uF3CWOgiTClnDXJUgAjIAKdee9WoficlxCs8WjZV1BU/aOx/4DXEx2F1PdtduDA4UbWGGDNggn6EbfyFXbaBbWBbdCSFGMnvQqUeqBs6OL4j629x9om8NRR2Zd40Y3mXdl2nPC8DDDrVj/AIWT/wBQX/yZ/wDsawZv%2BQLb/wDX1N/6DFVWmqUBXZ1H/Cyf%2BoL/AOTP/wBjR/wsn/qC/wDkz/8AY1y9Kqs5wqkn2FP2VPsF2dP/AMLJ/wCoL/5M/wD2NSp4/wB9lJef2T/q5UTb5/XcGOfu/wCz%2BtcsLZxzIyp/vGrEQRdKmwd6faIt3Y52yYx7df0qHCl0Q7s3P%2BFk/wDUF/8AJn/7GlHxHJ6aIT9Lj/7Gua85F/1cCj3PNIbmcjHmED0HFP2cX0/ELnUD4gTkZ/sEge9zj/2Wl/4WCR9/S0H/AG9f4LXKEk9ST9aSj2KDmOui8ei4cxxaaCwRm/13ZVLH%2BH0FQH4iyBwRp6svddxBP4//AFqwtH/4%2B3/69Z//AEU9VaFRhcOZnUf8LJ/6gv8A5M//AGNH/Cyf%2BoL/AOTP/wBjXL0VXsqfYV2dR/wsn/qC/wDkz/8AY1LY%2BP8A7bew2f8AZO3zZVTd5%2BcZOM/drkqtaH/yGrP/AK%2Bo/wD0IUnShbYLs3v%2BFk/9QX/yZ/8AsaP%2BFk/9QX/yZ/8Asa5ein7Kn2C7Oo/4WT/1Bf8AyZ/%2Bxo/4WT/1Bf8AyZ/%2Bxrl6KPZU%2BwXZ08fxEf8A5a2Kn6Ej/GrFx48FtO9tJpqh43KuDOeoOD/DXIVa1z/kNXn/AF9Sf%2BhGp9jC4%2BZnQP8AEXYcf2Qrf7tz/wDY0xviNJINsWkqrHoWmyPywK5ilRyhyAD9RT9lGwrs6hPiNuHzaP7f8fH/ANjSn4iMBn%2Bxfw%2B0/wD2NcusgAwV75HNOWRd27PJx%2BFS6aT2Hc6m4%2BIIgjiYaUGMkZZl%2B0fdO5hj7vtn8ai/4WT/ANQX/wAmf/sa5%2B9V0t7UNjBgJUjuPMf%2BoNQrDI670Qke1NU6drsLs6b/AIWT/wBQX/yZ/wDsaP8AhZP/AFBf/Jn/AOxrlyCOCKKr2VPsK7Oo/wCFk/8AUF/8mf8A7Gq9p8SNbDM%2Bo%2BGYhC0jiGeK84OMHaQVznDDnpXP1am/5Atv/wBfU3/oMVJ0oaBdm8fiTgZ/sb/yZ/8Asaq23xaDWJvrzQ1iUE8i6JGM8fwVzl3btdQNCs7xkj7yY/rVa6t5UtY7d4GkVCDm3O0gjG04J9fr2pOlBdB3Z2kPxPiuEEsGlK6nut1n/wBlp3/Cyf8AqC/%2BTP8A9jXn8l1NGhmurgrLHIF2o2OgDOxA68A%2B3NXrO7upJzDdRopMQcKucrnsfehQpvoGp6D4d8W/29etZ/2f5W2Ivu83dnBAx0HrWzXG/Dz/AJDUv/Xq3/oS12VY1YqM7Ia1QUUUVmMKKKKACiiigAooooAKKKKAMvxn/wAi1c/8A/8AQ1rg7zV7O/1VrW0Lv5NtCskgQ7QwjUFc%2Bua7zxn/AMi1c/8AAP8A0Na43VwBdpgY/wBFg/8ARSV00diWZ97afbIhEZmTDA7kAzx6Z6U%2BKFIlCrk4/iY5P5mn0VtZXJCjr0op%2BM4eNeR1FDdgLMij%2BxoFdsYupf1WP/Cq7IANpA%2B7kEetTSkLpkTBchriTk/7qcfrVYuxJwcZ7ZqEpMegA4IJGcHoac1xKw2hto9FGKZRVtJ7iDr1q1D/AMgW4/6%2Bof8A0GWqtWof%2BQLcf9fUP/oMtDAq0UU%2BC2ubp/LtoHkb%2B6ikn9KYDKK0V8M6ig338kFqp73EwB/IZNH2Hw7bf8fOsyzEdVtoMfq1TzLoOxBo/wDx9v8A9es//op6q1s6bd6BHcstppErkW8p3z3HUCNiRhR3HH41X/4SHy/%2BPXRrGP0Pkbj%2BbE0ru%2BwGcAScAVKljey/6uzlb/djJq4fFWu4xHeCMekcSr/IVE/iDXJPvatcf8BlI/lT94NBq6JrL/d0m5P/AGwb/CrWj6HrMWrWs0ulzqq3KFmaIgABhzVJtV1N/v6jOfrM3%2BNWNFvbx9ZtFe7lINzGCDIefmFJ81g0GHQNcHXSLn/vyaY2j6un39LuR9YG/wAKjF/fDpey/wDfw09dX1ZPuancD6Tt/jT98NCN7W6j/wBZbSL/ALyEVHV1PEmvR/d1ac/7z5/nUn/CVaw3E8sUw9JbdD/Sj3g0M6rWuf8AIavP%2BvqT/wBCNT/27bS8XegWT%2BpjQof0NWNVm8Nyarcpd2d1E4uHDSQyhgx3HnBH6Uru%2BwGNRWj/AGVo1x/x5a%2Bik9Euoin6jIps3hrWI082K2E6f37dw4/TmnzRCzKFFK6PGxSRCpHUEYIpKoRa1D/j0sf%2BvU/%2BjZKqglTkHB9qtah/x6WP/Xqf/RslVaS2AkFw5GJQHH%2B0KMW8n3WKH0PIqOilyrpoO494ZEG4jI/vDkVPN/yBbf8A6%2Bpv/QYqrpI8ZyjkfSrUhEmlwvM%2B1TcShQq9DtTJ/HI/Kk3JbhoU6KfJC8Y3cFT0YdKZVJp7CI57S3uFdXjGZF2swHOPrSW1oltubezu5%2Bd3PJ9OlS0UWVwN74dnOtSnH/Lq3/oS12Vcb8PP%2BQ1L/wBerf8AoS12Vctb4y47BRRRWQwooooAKKKKACiiigDxj9oD4v8Axy%2BFfxN8KweG28IXGg%2BIPE2jaLY%2BG5bO6n1vWHuLorqNxDIsscVrHZWe68OYp/MS3lDGH5ScbRf2lviHJ%2B1/4i%2BDvjbxVovh/wAOWPiu30fwvZXnw41VpdeEmhWl%2BSmtfalsUm8%2Ba5VYPKLslowALEsOs8YfsvS%2BJvju37QWkfHvxroOrHQoNIjsdNttGntYLRJWmdIvtunTyw%2Bc7KZikimTyYc/6qPbPrH7MmneJPiVp3j/AMVfF7xpqllpms22sW3hO9vbRtMGpQWv2eO6AFsJ0wP3vkJMtv52ZPK3EkgHd%2BLoZrjw9cQ28TO7bNqIuSfnXsK5TVdH1eS5Vo9KuWAtoRkQMeREoI6etdT4z/5Fq5/4B/6GtcbrH/H2n/XrB/6KSuijexLD%2Bw9a/wCgPdf%2BA7f4U2TSdThx5%2BnzxhjgGSIqCfxFQxxtIcDgDkk9qdJKAvlQ8L3Pc1q3K9kIsSaDrCnCaVdNxyRbt/hSf2LrgG0aTdY9Ps7f4VUop2dhGnLo%2BrnSIIhpVzuFzKSvkNkArHg9PY/lVb%2Bw9a/6A91/4Dt/hRN/yBbf/r6m/wDQYqq0K4Fr%2Bw9a/wCgPdf%2BA7f4Uf2HrX/QHuv/AAHb/CqtXNP0Wa8iN5PKtvbKfmnl6fQD%2BI/ShtrcBv8AYetf9Ae6/wDAdv8ACtLTfC%2BqXGlTJcwtbq08b5eMliFDg4Uc5%2BYVWOsWWmDytBtcP3u5wC5/3R0X%2BdQmee50m5muJmdzdQ5Z2yT8stS%2BdrsPQv8A9mwafxa%2BGr28kH/LS5gZU/BQOfxNRzz%2BMJk8mLT7mCPtFbWrIP0FY9FPl7hcttouuOxZtJuyT1Jgb/Ck/sPWv%2BgPdf8AgO3%2BFVaKrURp6Vo%2Brx3LNJpVyoNtMMtAw5MTADp61W/sPWv%2BgPdf%2BA7f4UaP/wAfb/8AXrP/AOinqrS1uBa/sPWv%2BgPdf%2BA7f4Uf2HrX/QHuv/Adv8Kq0U9QLX9h61/0B7r/AMB2/wAKs6Po%2Brxavayy6Vcqq3KFmaBgANw5PFZlWtD/AOQ1Z/8AX1H/AOhCk72YB/Yetf8AQHuv/Adv8KP7D1r/AKA91/4Dt/hVWinqBa/sPWv%2BgPdf%2BA7f4Uf2HrX/AEB7r/wHb/CqtFGoFr%2Bw9a/6A91/4Dt/hVnWNH1eXV7qWLSrlla5cqywMQRuPPSsyrWuf8hq8/6%2BpP8A0I0tbgH9h61/0B7r/wAB2/wp8OleIbd/Mt9NvUb%2B8kLg/oKpUU9QNtLnxQ6iLUdDlu0Ha4s2JH0YDNL/AGBbah/q9Mv7GQ/wvbtJH%2BeMisOip5X00Hc2NZ8OazbxWsK2MkvlwFWaFCwz5jnsPQiqP9h61/0B7r/wHb/Cp21K%2B02CxksrloybU7gDw372TqOhp4n0bWfluo1srg/8tox%2B6Y%2B6/wAP1FJOSQaFX%2Bw9a/6A91/4Dt/hR/Yetf8AQHuv/Adv8KbqGmXmmSiO7iwGGUdTlXHqD3qvVq7EWv7D1r/oD3X/AIDt/hVmXR9XOkQRDSrncLmUlfIbIBWPB6ex/KsyrU3/ACBbf/r6m/8AQYqTuA6PSNdiOU0m69x9nbB/SibRtREZmbTLiLby2%2BFgPzIqnR06UnF3uh3LKaPq8qCSPSrllIyGWBiD%2BlL/AGHrX/QHuv8AwHb/AAqIMs42SEBv4W9fY1GysjFWGCOopptuzA6PwJp2oWeryS3dhNEptiA0kRUZ3LxyK6yuN%2BHn/Ial/wCvVv8A0Ja7Kuat8ZS2CiiishhRRRQAUUUUAFFFFABRRRQBl%2BM/%2BRauf%2BAf%2BhrXHaqrPexoo5NrBj/v0ldj4z/5Fq5/4B/6Gtcjqn7uUSd2tYFX/v0ma6KTtEl7lWV1UeTGeB1PqajoordKyJCiiimBam/5Atv/ANfU3/oMVVatTf8AIFt/%2Bvqb/wBBiqTRbKCVpNRv1zbWq7nX%2B%2B38Kfiam9lcB9lp9rY2y6trKkq3NvbA4MvufRf51W1HU7vU5RJcuAqjEcajCoPQDtTdQv7jUrpru5b5m6AdFHYD2qGhLqxhVqH/AJAtx/19Q/8AoMtVatQ/8gW4/wCvqH/0GWmxFWiiimAUUUUAWtH/AOPt/wDr1n/9FPVWrWj/APH2/wD16z/%2BinqrS6gFFFFMAq1of/Ias/8Ar6j/APQhVWrWh/8AIas/%2BvqP/wBCFJ7MCrRRRTAKKKKACrWuf8hq8/6%2BpP8A0I1Vq1rn/IavP%2BvqT/0I0uoFWiiimAUUUUAWtQ/49LH/AK9T/wCjZKq1a1D/AI9LH/r1P/o2SqtJbAXdO1hraI2N7F59ox%2BaFjyvup7Gk1TShZql5Zzeday/6qXHIP8Adb0IqnV3RtRitXazvgWtLj5Zk/u%2BjD3FJq2qGUqtTf8AIFt/%2Bvqb/wBBipmp2EmmXr2cjBtp%2BVx0ZTyCPwp83/IFt/8Ar6m/9Bip3vYRVooopgFSj/SE2n76j5T6j0qKlVijBlPIPFKSuBu/Dz/kNS/9erf%2BhLXZVx3gBlfXZmVcA2zcf8CWuxrlq/GWtgooorIYUUUUAFFFFABRRRQBz2u/Fz4UeF/G2mfDTxN8TvD2neI9aTfo/h%2B/1qCG9v1ywzDA7iSUfK3Kg/dPoaWX4sfCyD4hx/CKb4leH08WTWn2qLww2swDUXgwT5ott/mlMKx3bcfKeeK8F/aS1fw/4k/aP0r4Yar8LfE%2BnaJaXnh/xJ4q8Z6H8MdX1J9eutPv2u9L0yK7srOWNEguIVnnkkf5EkWJF/fyvFz954S8bah%2B0TeeG7T4c%2BI/t%2Bq/tAaX42sfE8nh26Sxj0OPw3a20kr3bRiKKX9zPYfZmYT5kB8vy2L0AfU3jP8A5Fq5/wCAf%2BhrXFX0zzPHv/hhRfyUD%2Bldv4uMK%2BHrg3EbMnyblR9pPzr3IP8AKuNkk0sMPPs7hm2jlLlVGMehQ1vS6fMllOirXnaL/wBA%2B6/8DF/%2BN0edov8A0D7r/wADF/8AjddF/Ikq0Va87Rf%2Bgfdf%2BBi//G6PO0X/AKB91/4GL/8AG6L%2BQBN/yBbf/r6m/wDQYqsam32PRLLT04MoNxL75OF/QUssukf2RATY3O37TLgfalyDtjzzs%2BlTa7JpRWykks7hg1jHsK3KjAGRg/Icn3/SovqhmNRVrztF/wCgfdf%2BBi//ABujztF/6B91/wCBi/8Axurv5CKtWof%2BQLcf9fUP/oMtHnaL/wBA%2B6/8DF/%2BN1Zil0j%2ByJyLG52/aYsj7UuSdsmOdn1pNgZlFWvO0X/oH3X/AIGL/wDG6PO0X/oH3X/gYv8A8bp38gKtFWvO0X/oH3X/AIGL/wDG6PO0X/oH3X/gYv8A8bov5AGj/wDH2/8A16z/APop6q1p6VLpBuW8uxuQfs03LXSnjymz/B6VW87Rf%2Bgfdf8AgYv/AMbpX1Aq0Va87Rf%2Bgfdf%2BBi//G681%2BNf7Yn7LX7O%2Bt23hr4v%2BOJdJ1C7tPtVvZrHPcSNDuKByILd9oLKwG7Gdpx0NbUaNfEVOSlByl2Su/wIqVKdGPNUkku7djT%2BMHx0%2BE3wD8OR%2BK/i742ttFsZpvKgeZHkeZ8E7UjjVncgDJ2qcV4W3/BYr9kTRb27vbeLxTff2Zdw/ZkttGVTqKk5Z4fMlXaq4583y25G0Nzi18Tf%2BCgH/BPr4g%2BHhZa74G1P4gC2l86y0aXwe9zulwV3ILu2WNTgkbsg4Jr4L/br%2BKHwt%2BJ2saZN8FPgFo3w/mht7yTUItM1eyvVvpJBELdn%2ByqEtymyTdFjOZMnkc/T5ZksKlO2KwtVvrZxjpq9E/eeit6tW8vMni/bYlU6WKpU09nNSavdJXcU0ld3vayUZN6LX9Tv2afjxp37Sfwi0/4taX4Xv9HivpZkFlqC/MNkhXcrYAkUgAhhxyR1Brva/PL/AIJIftpfCP4D/svyfDP9qb4yXEWr2/iO5k0Wyniu5zaWDRxbU8xIJEwZRMwUNwG6CvtD4U/tgfsp/G7Xv%2BEW%2BF/xLt9U1Lyy6WH2poZpFAJYoksKl8AEnbnAGTXzUKGYYjDLFTwdSjGSvyyTvBa6N26dz6fP8FluRZ/iMrw2YUsZGlJwVak1yVbJe/BXejvtd6p6s72irXnaL/0D7r/wMX/43R52i/8AQPuv/Axf/jdYX8jzirVrXP8AkNXn/X1J/wChGjztF/6B91/4GL/8bqzrEukDV7oS2NyW%2B0vuK3SgE7j22HFK%2BoGZRVrztF/6B91/4GL/APG6PO0X/oH3X/gYv/xunfyAq0Va87Rf%2Bgfdf%2BBi/wDxujztF/6B91/4GL/8bov5AGof8elj/wBep/8ARslVa076XSBbWe%2BxuSDbHaBdKMDzX6/Jzzmq3naL/wBA%2B6/8DF/%2BN0k9AKtFWvO0X/oH3X/gYv8A8bo87Rf%2Bgfdf%2BBi//G6d/ICxqB%2B26DaX7cvC7W7n1A%2BZf0JFV5v%2BQLb/APX1N/6DFV8SaWvhksbK48t74YU3K5yE652dOemPxqGWXSP7IgJsbnb9plwPtS5B2x552fSoT/MZmUVa87Rf%2Bgfdf%2BBi/wDxujztF/6B91/4GL/8bq7%2BQirRVrztF/6B91/4GL/8bo87Rf8AoH3X/gYv/wAbov5Aanw8/wCQ1L/16t/6EtdlXJ%2BBJNPbV5BaWsyN9mOTJOGGNy9gorrK5a3xlrYKKKKyGFFFFABRRRQAUUUUAFFFFAGX4z/5Fq5/4B/6GtcdqkCQtFs/54R7vqUVv612PjP/AJFq5/4B/wChrXI6iwN2sLHAa1gwfQ%2BUmK3p6RuS9yjRSspVirDBHWkrpJCiiigC1N/yBbf/AK%2Bpv/QYqs/8hTw6qIo83T2JIHVomOc/gf0NVpv%2BQLb/APX1N/6DFTNN1CbTLtbuEA44ZG6Op6g%2B1S02tBkFFX9W02FIxqmmEtaSnj1ib%2B439PWqFNNNCCrUP/IFuP8Ar6h/9BlqrVqH/kC3H/X1D/6DLQwKtFFFMAooooAtaP8A8fb/APXrP/6KesXxZ4r8PeBfDGoeMvFmqR2OmaXZyXV/dy52xRIpZmwASeB0AJPQAmuR%2BN37Tvgf9nn%2BzrPVdJ1PXtf15pLXQfCvh%2BAT3987IwLKhIxGucs54A6ZPFeQeNNH/af/AG0G0/4aePfgtcfDb4dSXqXPia4vdeguNQ1eCNg6WixRDMAZwCxPYZzxtbvwuAnUtVrPkp9W2k2lvypu8n0Vla/XR25K2KjC8Ka5p9knu9rvZLq7vbpsXvEP/BUz9lvQrBdXt08WahZSSBIr208MTJFIxBIVWn8sEkAkD2rx39or4/8AwE/4KH%2BFdM%2BGXwi%2BC2v6942nu7ldFmuZ7XTp9KSJI2eeSUtKDbt5nMZ%2B%2BY2%2B4wRq%2Bv8A4t/s%2BfB346eDLX4f/FHwRBqWkWM6TWVos8tv9ndFKKUaFkZQFJGAcEcEVk/A/wDZH/Z6/ZzvrrVvhD8OYNMvbyEQ3N9JdzXMzR5zsDzO5RSQCQuASBnOBXp4bHZLhIe2pU5qtF%2B773u%2BV2rP1SWu2zOOthcyxEvZ1JxdN7%2B7r8r3%2BT%2BZ8ieG/wDgkd%2B0P43stP0v46/tKRJpunwJHZ6dZz3WpC2jUYWKMTmNIgBwNoIHYEV6Xov/AARX/Zpu5bPS9T%2BJXj2QNMok8nUbNF3MVDMqm1bbkAdz0HPFfXFWtD/5DVn/ANfUf/oQrKtxNnVT4avKu0Uor8mXTyXLYbw5vVt/qfCh/wCCLPhiw%2BI9vrHhz48axZ%2BHoWjdoGskbUcg/OqzoURMjo/lnGcbT1P0h8Ev2Nf2df2fdUPiL4cfD6OPWHRlk1vULmS6uzuGGIeVj5e4Eg7Auc816jRXNis6zXG0%2BStVbVrW2v62tf5/cbUMtwOGnzU6aT3729L3t8goooryzuCrWuf8hq8/6%2BpP/QjVWrWuf8hq8/6%2BpP8A0I0uoFWiiimAUUUUAWtQ/wCPSx/69T/6NkqrVrUP%2BPSx/wCvU/8Ao2SqtJbAFKqs7BEUkk4AA6mkrVs4V0C3XVrxR9pdf9DgYfd/6aMP5UN2AZr5Wzjt9ERgTbITMQesjckfhwKrzf8AIFt/%2Bvqb/wBBiqs7vI5kkYlmOWJPJNWZv%2BQLb/8AX1N/6DFStZIZVoooqhBRRT4Y/MfB4UcsfQUm0lcDb%2BHn/Ial/wCvVv8A0Ja7KuO%2BH7B9dmYLgG2bAH%2B8tdjXLV%2BMtbBRRRWQwooooAKKKKACiiigAoryzx38WPir4X/as8B/Cq00nQP%2BEO8U6Pqj3N5K076k17bRrIAgBWKKJVZck%2BY0hkIxEI8yclov7S3xDk/a/wDEXwd8beKtF8P%2BHLHxXb6P4Xsrz4caq0uvCTQrS/JTWvtS2KTefNcqsHlF2S0YAFiWAB7Z4z/5Fq5/4B/6GtcbrH/H2n/XrB/6KSu08XQzXHh64ht4md22bURck/OvYVymq6Pq8lyrR6VcsBbQjIgY8iJQR09a6KLSRLKP/HyuP%2BWgH/fQ/wAai6datDRNbByNIuv/AAHb/CpG0fVZULS6VcowHLGBgD9eOK0uo%2BgtyjRViLSdUnXzINNuHXP3khYj8wKd/Yetf9Ae6/8AAdv8Kvmj3EE3/IFt/wDr6m/9BiqrWnLo%2BrnSIIhpVzuFzKSvkNkArHg9PY/lVb%2Bw9a/6A91/4Dt/hSTXcBNN1S40yUtGA8bjEsLjKuPQirU2kW2pRm88PsWwMyWbH94n0/vD9arf2HrX/QHuv/Adv8KdFpGvwyCWHS7xGU5VlgYEfpSdr3TGVCCpKsCCDyDVmH/kC3H/AF9Q/wDoMtaYjvdSAj17w7dl8YF3BbEP/wACGMN/Oi58K6jbaRMLRHnV543UCJlfAVwcqef4h60udbMLGFRVr%2Bw9a/6A91/4Dt/hUV9Y32mWU2pajZTQW9vE0s880RVI0UZZmJGAAASSau6YiKvKf22vil4/%2BC37Mvib4l/DNoE1bTY7fypri284QpJcRxPIEPDMquWG7I4yQRxXD6N%2B0f8AtZ/tI61cTfsgfA2wi8HohFp488ewXUVrqDK%2BxjbxQ/O65DYIyPkO7aflq34g/Y4/bE%2BM%2BiXXhv49/tRXEWjahC0N/wCH/B3g6KCOWNhhl%2B0SgyEEcYKmvZoYKng8TCeMnCKTTcW%2BaVr6pxinZ26NrzsedVxMsRRlHDxk200pJWV%2B6bav6peh2X7MP7K/w/8AhXrEnxVvvEd74y8ZaxpkzX3jbXJvMnmjeBjtgXJWCIjoq87cAsQBj1Go/hX8NJvhr4O0nwDplvqc9nomhjT7W4v1LzSJFbmNC7BQCxAHQDJPAq9/Yetf9Ae6/wDAdv8ACvNxOIniMRKc583ZvTRXtpslbotEdlGlGjSUYxt/n116%2Br3KtFWv7D1r/oD3X/gO3%2BFH9h61/wBAe6/8B2/wrC67mpVq1of/ACGrP/r6j/8AQhR/Yetf9Ae6/wDAdv8ACrOj6Pq8Wr2ssulXKqtyhZmgYADcOTxSbVnqBmUVa/sPWv8AoD3X/gO3%2BFH9h61/0B7r/wAB2/wp3XcCrRVr%2Bw9a/wCgPdf%2BA7f4Uf2HrX/QHuv/AAHb/Ci67gVata5/yGrz/r6k/wDQjR/Yetf9Ae6/8B2/wqzrGj6vLq91LFpVyytcuVZYGII3HnpSur7gZlFWv7D1r/oD3X/gO3%2BFH9h61/0B7r/wHb/CnddwKtFWv7D1r/oD3X/gO3%2BFA0LWyQBpF1z6wN/hRddwDUP%2BPSx/69T/AOjZKgt7a4u5hb2sLSO3RVGTW9J4WmW0tZNTSceVAVaC2hMjk73bGRwOGHWoLhtcSFrPSPD9zaQtwxSBi7/7zY/QVCmug7ESxaf4e/eXJS5vR92EHMcR9WP8R9qzrq6uL2drm6lLyOcszGpv7D1r/oD3X/gO3%2BFH9h61/wBAe6/8B2/wqlyrW4FWrU3/ACBbf/r6m/8AQYqP7D1r/oD3X/gO3%2BFWZdH1c6RBENKudwuZSV8hsgFY8Hp7H8qG13EZlFWv7D1r/oD3X/gO3%2BFNOk6msqwy2EyM/wB0PERn6Z60%2BaK6hYgRGkYIgyTT5GVF8mM5H8Tepq0%2Bj6wimKHSLrB%2B832duf0qP%2Bw9a/6A91/4Dt/hUpqTux7Gp8PP%2BQ1L/wBerf8AoS12Vcn4E07ULPV5JbuwmiU2xAaSIqM7l45FdZXPW1mUtgooorIYUUUUAFFFFABRRRQB5j8Uf2bLv4m/F7w38YoPj5418PXXhWGePS9K0ODR2sz56hZ2f7Xp88rF0VVP7wABcqFOSV1j9mTTvEnxK07x/wCKvi9401Sy0zWbbWLbwne3to2mDUoLX7PHdAC2E6YH73yEmW387MnlbiSfTaKAMvxn/wAi1c/8A/8AQ1rjdY/4%2B0/69YP/AEUldl4z/wCRauf%2BAf8Aoa1wN/rdnPqv2GVXglWCFVSddu8CNRuX1B7V00WkiWOooorckkWYFdkw3Dse4oaA43xHevt1FR0qsyHcrEH1FTy22GWZv%2BQLb/8AX1N/6DFVWrkhV9LhknY4a4kACjoQsfP45H5VXNuzDMTBx6Dr%2BVJStuFiOiggg4IxRViCrlrLJDpE8sMjIwuocMpwR8stU6tQ/wDIFuP%2BvqH/ANBlpMCSXxBe3Vs1vfxxXGVwsssfzp7hhz%2BdUX0jT9fhl0TVbVZ7W7gkiuIHGVkRlIKkdwRx%2BNFeQfte/HDxR8NPDGl/Dn4SxrcfEDxzenTPCcG7/j2JH769f0SFDuzyASpIIDVvhsPUxFZU6ejf3Lq2%2BySTbfkZ1qsKNJznsvx8vnt8zZ/YqvPEWofs8eGk%2BItvbQ6nbvfx3UUFnHaosa3k/wBnXy4lVU/c%2BV0GcEE5JzXqx0yB51SQGLzHCRBDuBJH3sn%2BHkVw3wH%2BGifA/wCGmm%2BAoNeu9WuLeN5NU1XU5Wmm1C6lYvPO5ckku5JwScDAzxmu0XV5sEyRqzgsY36bMjB4/l6UYyUamLqTp7Ntrp17Cw0ZQw8Iy3SRPpunSQyPK0qFls5S8YzlQ0LYPTHp%2BdZta1pqMU9xN5KMHmtpTKWxgYhbAHt/9as6zezScNfQu8eDlY2wfzrnTetzZkVFaOPCknR7%2BI%2B4Rh/ShrHw63Meuyrz0e0J/kaObyCxnVa0P/kNWf8A19R/%2BhCp/wCytGb7niWL/gVs4/pVjSdJ0%2BPVbaSPX7dytwhCBGBY7hx0pOSswsY1FaP9j6YOviS3/CN/8KP7L0Nfv%2BJU/wCA2rmnzILGdRWj9j8NR/f1meT/AK52uP5mjd4Uj5EV/KfRmRR%2BmaObyCxnVa1z/kNXn/X1J/6Ean/tXRYv%2BPbw4hPrPcM36DAqxq3iK/tdVuYbOK3h23DjfHbruOGPJJzzSvK%2BwGfa6Nqt7/x66fK4P8QQ4/PpVn/hHTb86rqltbY6p5m9x/wFc1VutX1S9yLrUJnB/haQ4/LpVenaTDQ0vO8NWP8Aqrae9cfxSt5afkOT%2BdR3HiLUpYzb27JbRH/llbLsH445NUaKOVdQuWtQ5tbHP/Pqf/RslVatah/x6WP/AF6n/wBGyVVprYQUUoViMhT9ad5eMljkD0obSCwyrUoJ0a3AGT9qm4H%2B7FVZl2nGc%2B9WnZo9JhkjcrunkUjPHCpz9Tn9BSbelhkAiSPmc4PZB1/%2BtSSTM42gBVHRRTOvWihR1uwuFFFIzKoLMQAOpNUI3/h5/wAhqX/r1b/0Ja7KuL%2BG8sU%2BrSSwyK6taNtZTkH5lrtK5K3xlrYKKKKyGFFFFABRRRQAUUUUAFFZd9438F6X4rsPAep%2BL9Lt9c1W3muNL0afUI0u7yKHb50kUJbfIqb03MoIXcucZFU5fix8LIPiHH8IpviV4fTxZNafaovDDazANReDBPmi23%2BaUwrHdtx8p54oAueM/wDkWrn/AIB/6GtcP4ksLPUJVgvLdZF%2BywYz1H7pOh7V3HjP/kWrn/gH/oa1xusf8faf9esH/opK6aKvEl7mGLXWdK5sZvtcI/5YzNhwPZu/41NZ67Y3Un2d2aCbvDONrfh6/hVyobyws9Qj8q8tlkXtuHI%2Bh7VrZrYRNRWb/ZWp2HOkakWQdLe6%2BZfoG6ilGvSWny6zpstv6yqN8f5jpRzW3Cxtzf8AIFt/%2Bvqb/wBBiqqCQcg4qWO9s73Q7drS6jkAuZSdjg4%2BWOoqa1QiQXDEYlUOP9rr%2BdGLd%2BjMh9xkVHRS5V00HckNtIeUw4/2TU8asui3AYEH7VD1/wB2WqgJHINVfGXjvwr8N/h9qnj/AMd69Bp2maVsku727f5I02vkY6sSQoCgEkkAAk4pqNSUlGKu2/mJuMU29EUvH3jzwp8MfBmpeP8Axxq8dhpWlWrXF7dSnhVHYDqzE4AUckkAZJrxP9lXwf4t%2BMHxE1H9tb4s6K9hca1Yix8AaFcjL6To%2BSwlYdBLOTvJHRWODh8DI8MeGPG37fHiqx%2BKHxZ0S50L4S6ZdrdeFfB067J/EUinKXt6vOIe6RdGB7j5n%2BnVjtAoSNigAwF28AfhXqVZRy6hKitastJNa8q/kTXV/aa2ty/zHDBPGVFUfwR1j5v%2Bb0X2e%2B/YZRUnkA/cnQ/U4/nQbWfsmfoc15XNHud9mTaP/wAfb/8AXrP/AOinqrVvSkeO6cyIV/0accj/AKZNVSmmmxBRRRTAKtaH/wAhqz/6%2Bo//AEIVVq1of/Ias/8Ar6j/APQhSezAq0UUUwCiiigAq1rn/IavP%2BvqT/0I1VAJ6CrmsRyS6xdvGhYG5kIIHBG41LaTAp0VJ9mlHLAL/vMBR5MY%2B/cL%2BGTRzRHZkdFSf6Kp/jb9KPPVf9XAo9zzRzPogsTagR9ksef%2BXU/%2BjZKroAwK457GrGoAfZ7STHL25Zj6nzHH8gKrKzKcqcGhXcQ6j0OACTjGc57ikMgAO0dTyDTCSeSaKORdQuKzFjmrM3/IFt/%2Bvqb/ANBiqrS6jrGl2GjwR3V9Gri5lPl7stgrHjgc0OysISkZlVSzMAAOST0rP/tTVb7jStLKKf8AltdnaP8AvkcmhdAN0RJrV9JcnORGPljH/AR1/GjmvsOwsuvxSSG30m3a7lHB8vhF%2BrdKaNHu9RYS67db1zkWsJIjH17tWhFDFBGIoIlRR0VRgCnUct9wubnw3ijh1eSKGMKq2jBVUYA%2BZa7SuN%2BHn/Ial/69W/8AQlrsq5q3xlLYKKKKyGFFFFABRRRQAUUUUAfOXx%2B1jwp4V/bf%2BF3jRfhf4puruz0rVbbXvEeg/DXVdQjjglhC2cMt5aWkibRK05CF/wB35jMQofJ5K88JeNtQ/aJvPDdp8OfEf2/Vf2gNL8bWPieTw7dJYx6HH4btbaSV7toxFFL%2B5nsPszMJ8yA%2BX5bF6%2BuqKAM3xcYV8PXBuI2ZPk3Kj7SfnXuQf5V5R4kHxF0LxBLqFiLfXNOkjjePT3dba4hQxqVRZMFXwOMsATivVfGf/ItXP/AP/Q1rjdY/4%2B0/69YP/RSV0UleJLOa074s/D%2Be6XTdd07UdGvD/wAu2qzrFn/dcx7WHpzzXSJc6FIgkjsrllYZVlvVII/791n6jpem6vbGy1XT4bmFusU8QdT%2BBrnH%2BFtvpbmfwP4jv9FcnPkxSebbk%2BpifI/IitbSXmLQ7TztF/6B91/4GL/8bo83RD10%2B6/8DF/%2BN1xX9r/FPw/xq3hyz1qBf%2BXjTJvKlA9TG/BPspqay%2BLPg2acWWq3U%2Bk3J62%2BrW7QMPxb5f1ovHqB1N74f8IT2EV6NHuIpWnkUSwXgR%2BAh5ITB6%2Bnr68Zstlq1rJu0zUDLEOkV7hmx/vqB/KtVLm2vPD9tcWlwksbXMxV43DA/LF0IqChRW4XK669bWoA1PwrfjHWS2vEdT748vIrRjudDljWRdPu8MARm7UH/wBF1WqO7u7WwtZL6%2BuY4YYYy800rhVRQMliTwABySaai77ibJLvXPDVg8rX1lcwwwW7TTXMt8ixog5JJKcADJJ6DFfOmieCrr9tn4k/8LQ%2BKcN1H8ItDuoZ/A3hT7QpTxDLsYjUrshSDGOfLhcAlX5AG8SUfEniXV/2%2Bm1T4dfCfxFqmj/D22vhaeJfF0Fgqpr0Kn95Z2UjSbgpPDSbCpHGcHbJ7/4d8J2vhHwTD4X8NaObHSdNS2tYbGJ9yLGgZUVBknAVceuO1eleeV0%2B1Z6ecI/pKX3xjfaT04/dxs%2B9NfdJ/rFfc33S16G3uPDrwr9lsZzGBhfLvUwAOwxHT/O0X/oH3X/gYv8A8brnJtjTSvdpiORXeCJuCzcKMD1wM/8AAq1oPMW3QTHLBBuPqcc15idzt2LvnaL/ANA%2B6/8AAxf/AI3QJtFHIsLr/wADF/8AjdYo8UaMDtluWib0liZf6VPHrOky/wCr1OA%2B3mjNO8X1DU3NMn0qS4ZBZ3XEErYa7UjiNj02deOD2NRfb9M72d0frdof/adQ6JLFLdOY5Fb/AEWf7rZ/5ZPVelyRbC7L327SD102c/W5T/43SG80XH/IJm/8Cl/%2BN1Soo9nELstm70ntpcn43I/%2BJqbTJrCbU7eKGzkjdp0CSCYHadwwcbeazqtaH/yGrP8A6%2Bo//QhQ4RsF2AutLH/MNf8A8CB/8TThd6QOulS/%2BBI/%2BIqnRT5Ihdl77bov/QJm/wDAlf8A43R9v0ntp1wPpcp/8bqjRS9nELsvfb9M/wCfS7H0vF/%2BN1Lq0ukxancwtZXPyTuuEu1C8Meg2HA9qzKn8QXNtDrV4ZrhE/0qT7zgfxGjlimF2P8AO0X/AKB91/4GL/8AG6PO0X/oH3X/AIGL/wDG6ypde0aH7%2Bpw/wDAZAf5VF/wk%2Blv/wAe3nTn0hgY/wBKLxXUNTa87Rf%2Bgfdf%2BBi//G6PO0X/AKB91/4GL/8AG6xP7Z1Cb/j08PXJ/wCuzLH/ADo3%2BKJ/uw2luD13szsPy4ouulwOkvpdIFtZ77G5INsdoF0owPNfr8nPOaqS3egQrvmtLhF9WvUA/wDRdZ15ourS21odQ8STOrW5KpBEseweY4xkZJ5yc%2B9Qx%2BGtHR/MltjM/d53Lk/nxSXM1/wQ0LUvirwcj%2BVDb3c79kt7kOT%2BUeKim1W4vEI0nw3PAT92W%2BvFI/75VAf1qxFDDAmyGJUX0VcCnU%2BV9WF0U7fSpbgk67qVzIp/5ZWUghA9slWJrUt9J8JadpkNxa6HKrNPIN/2lS5wqdWKZI56fX1qvVDXNc13TUs0GmQGxfURCsjTfvJXk8sMVA6BBgnPUZx0pOMU7hdmz52i/wDQPuv/AAMX/wCN1S1DxP4O02KOa4gu2WUsE8ifzM7fvH5IjgDuTwK43xFJrEx1SKPUZWmN2LX7IXPltDKqiPA/hOdw3Dqc/gaXa3D68NX8OaW4itkU3Nn5fkguyNHLGoYBc/u4W9PlPIzRcLHew3mgXEKXEFncujqGR1vFIYEZBH7uuf1vx/Y2%2BpS6B4Z8Caxqd7FgSN9pWK3jJAI3StHjoQeM1Y8Lafc6XoNvYXaBXjU5jDZ2AsSFz3wCB%2BFaFVZtbgbfwsmmlkVtTsBDfGzJuBFc%2BZGDuXhcoD6V2tcb8PP%2BQ1L/ANerf%2BhLXZVzVVaZS2CiiishhRRRQAUUUUAFFFFABRRRQBl%2BM/8AkWrn/gH/AKGteEeN7f8AaY8L%2BJ7nV/C%2BoeH/ABVpUyxyw6NfQmwureMxqVijmXcj4HG5wCa938Z/8i1c/wDAP/Q1ritRuba5u/8ARrhJNkEKPscHawiTIOOhHpXRSV4ks8qh/ag8N6FMtj8XfBmveDbgsF87VbEy2bt6JcQ7kYe52133hzxZ4X8X2I1Pwp4jsdStz/y2sbpJVH1Kk4NXpoYbiJoLiJZEdSHR1yGHoQetcF4i/Zi%2BDWvXx1mx8LnRNR6pqXhy5exmQ%2Bv7ohSfcg1t7yFod/UN7YWGpQG11GyiuIm6xzRhlP4GvNv%2BFZftAeDvm8AfHNNXgT/V6d4000TE/W5h2yH8jXZ/D%2B%2B%2BIN9ojt8StB07T9RjuGRU0u8aaGaMBcSAsoK5JYbTkjGc88NO%2BjQhl78HfBq2MWpaEl5o9zJcShp9JvHhyAsZHy5K9z2qp/wj3xR0fnRvG9rqKD7sGsWW0gf9dIsE/Uil%2BOnju7%2BG/wANl8Xp4r0nS4LJ7uaVdThLm6ZYoysS/OgXJ6t/COegNfPut/tI/FL9ry5Pw%2B/Zt1r/AIRLQ3ZE1Dxfd7YrzUoyxWRdMWVlOMrIBLjP7tvuFQG2w%2BFda8n7sU9ZO9lfbbd9klf5amVWuqdo7yey6v8Aru9PyOw%2BJn7cmm/C/wAWn4Vr8P7nxZ4zZD5HhzwddC7m3Y/5bAL/AKOvIJ3ZYA52kVwzeEvil%2B0ze%2BZ%2B2R8SZvB3hyR8x/DPw4k1us6Z4W9vCuZfdFO3uChr1b4AeFP2fPgJoNx4a%2BHuhTadEYZbq68RarGGm1ry5FSWdpz80xEjqMYAzINi4YV6jpGsaF4s0ldS0m6ivLSYsoYLkEgkFSCOCCCCCMgiuz65RwmmDWv88knL/t1bQ/GXmjD6vVr64h6fyrb5veX4LyKXgdPh/o/h%2Bz8LfD19Lg02wt1hsrHTJE8uGNRgKqqeK6SH/kC3H/X1D/6DLXMal8Mfh/qxLXnhKy3Hq8MXlMfxTBqKP4R6ZbaXNNoXivX9NCXEQWG11VjHysnJV92en6n1rzJSm3d6s7EopWR0RAPUUVy3/CKfEiyOdN%2BJvnKPuxahpUbfmykGgS/Gaz/1lp4evlH/ADzkmhc/mCKObyHY6gqrDDAEehqGTS9Mm5l06Bvdogf6Vzv/AAl/xEtj/p/wrkZR1ez1aKTP4HBo/wCFnSwcah8O/EkR7smnCRR%2BKMaOaL3CzOisPCfh66uWWbS0wLeVhtYryI2I6H1Aqt/wjOmL/qWnj/3Lhv8AGs7TfjP4Js7hn1Q6jZg28q/6RpM4wTGwHRT3IqKH4x/DOc4XxbAp9JEdP/QlFT%2B7v0DU1v8AhHlH3NZ1Bfpc5/mKBol0v3NfvP8AgTKf6VUi%2BJXw%2Bm%2B5400wf794i/zNTx%2BN/Bkv%2Bq8XaW3%2B7fxn/wBmp2h/X/DhqSf2RqY%2B74in/GNT/Sp9J0fW5NVto4vFEqM1wgVxboSp3DmoV8U%2BGH%2B54jsD9LxP8auaJ4k8OjWbRzr1kALmMkm6Tj5h70NRsGpS/srV%2B/iOX/vwlH9j6ifveIbj8EUf0p58R%2BHh116yH1uk/wAaY3ivwsnL%2BJdPH1vE/wAado/0w1D%2Bwp2%2B/r19/wABkA/pR/wjsR/1mq37/wC9dGopPHfgiL/W%2BMdKX66hH/8AFVWm%2BKHw8g5fxlp5/wBy5DfyzStD%2Bv8Ahw1L3/CL6Q3M0Usn%2B/Ox/rVvUvC/h%2By1W5t7fSogiXDqisN2AGIHWucf4zfDRG2L4oRz6RW8rn/x1TU%2BrfGLwve6rcz6VpusXivcOyfZ9HmyQWJH3lFL93foGpuRWFjB/qLKJP8AdjAqWuW/4WRqdzxpvwz8QSHsbi2SEf8AjzUf8JN8T7ri0%2BGkNuD0e81mM/8AjqAn9armj0CzOporlvJ%2BMt7xJe%2BH7FT3iimmcf8AfRAo/wCEJ8b3vGs/FO9Knqmn2MVvj6HDGjmfYLHZ6gQLSxJP/Lqf/RslYOqeN/B%2Bi5GqeJ7GFl6o1yu7/vkHNUbz4N%2BFJbe0fXL/AFbVS9uWP9parK4H7xxwAQMcdKu6X4F8GaLhtM8L2MLDpItspb/vojP60lzWDQyj8XPDt3x4c0rVdXPQHT9Ocr%2BLPtGPej%2B3/ipq3Gk%2BCLPTlP3ZtWv95I/3IhkfnXVAADAFFOz6sDM8NWPiq0jmk8U67b3kkjAxx21p5SQjnIByS2eOvpVvxBoVzq1lpl3DrEtqLW6ueIokYsWSIZBcEKQMjOP4jVHxN498D%2BDIvO8XeMNM0xcZH2%2B%2BjiJ%2BgYjP4VyN3%2B1n8Lr%2Bwj03wFY6/wCLLqK5l3xeG9DmmUZWMDMjBY8cHndxSbirJhqdymhaX58N5cWaT3EC4juZ0DSD/gR6dT09TVuvMT41/ab8X/L4V%2BEekeG4G%2B7eeKtX85yvr5FsCVPszUn/AAoz4jeLPn%2BKfx%2B1u5ib72neG4k0yDHdGZN0jr9WBp37IDrvGvxX%2BGvw5hMvjfxvpumkLkQ3F0vmsP8AZjGXb8Aa5D/hoPxL4w/dfBj4Na5raN9zVtWT%2BzbEj%2B8rzDfIB6Bc10Pgr4C/B/4fTC88L%2BAbCK6Dbvt9xGZ7jPc%2BbKWf9a6%2Bi0mGhf8Agq/iaSKF/GUFlFqhsD9tj06R2gV968IXAYjp1Feg1xvw8/5DUv8A16t/6EtdlXNW%2BMpbBRRRWQwooooAKKKKACiiigD570T9qP4qX/xu0%2B3urHw9/wAINrPxV1LwFYWcdhONUgubPTLu6a/kuDOYnjeexnhEAgUhZI5PNOGSpP2bv2lviH8SPjFr/gP4p%2BKtF0uWDxB4mtPD/hP/AIVxqunXNzZ6dq8tnDdR6pc3TWt/m3WGWRLeIFftKn5FGG6Wf9j3wafiqfinp3xD8U2Rj8RzeItP0C3msm0%2Bw1mazNlPfxLJatJ5klu86FHkaIG5lkWNZGDjT8P/ALNelaT8XIfi5rnxS8X%2BIZNNl1KTw5ouvX1vLZ6K984a4MDJAlw4wDGizzSrFGxSMIuAADtvF0M1x4euIbeJndtm1EXJPzr2FfPHxI/YW%2BHPifxjd/EHwenizwf4i1ARzX2ueDtYuLWS4mKKWMiHdE%2BWznKc8g19C%2BM/%2BRauf%2BAf%2BhrXyt8Uf2nv2kfhR491G38Y/sS%2BJNd8KQOi6X4j8Aaxbancz24RdjSWDGOVG24JClhzgZxW9O3LqS9yx/wqr9v34bc%2BDviXoPj6yTpZeMvD8lhdhB/CtxaZV2/2nT6%2BtDftM/FzwMu347/sd%2BPNDRP9bqnhy2XW7JFHV2e3w6L9UyO9UPBn/BSP9jvxZqo8Nax8WI/CWsjAm0Xx1YTaNcRMf4W%2B1KiE9vlY1qfF79tH4V/Dyay8L%2BBGfx54s1dAdF8L%2BE5luZZwekkkibkhi7l27ZIBAOOvD4evianJR1f9au%2ByXVtpIyq1adGHNUdl/X3vyRseAv2vf2afiVcjT/Cvxj0Y3hbb/Z%2BoTmzud3dfJuAjkj0Aqb48/tMfDL9ny2tLTxZc3V9rmqgDQvC2jWxuNR1Nm4URQrzgngOcLngEnivGfGX7Mf7TH7XrLP8AtEN4M8C6K2CNG0PRoNU1bZ/de9mUrEw/vQ8e1bnhr/gmL8AfAD22rfC7xX418Ma3awmMeINI8RFbmYHr5gZDGQe6qig%2Bld6w%2BEwuteopv%2BWH6zei/wC3VJ9n1OZ1cTW0pR5V3l%2Bkd/vaIrf9k345/td60nxN/ax0K58NeHxtGh/DjTJnllVUYSLLfOQUYknmNV52jO0qQfZtW%2BBnim%2B%2BzaLY3H2TRLf7MY7K20IRzW3kJhFhkQhY0zhtuw7eQCAcDhZPhJ%2B2v4K0uGbwR%2B1Jovia2W4lEGm%2BOPCKoVwsed1zZurvnI6rxj3qv/wtv9tLwf8Au/Gn7LGj%2BIo0/wBbf%2BC/GMa8eqwXaI7fTdmuLEYqpiNGuWK2ir8q/F6vq3q%2BrN6NCNHW929293/wOy2RuXfwa%2BKdtDo2pax4Slmh8OvZQpYaSGkkuoo5hNJKodUAzJHbN5ZJOIm5JIrufht4O8YWGkXepa34fvLe41XU5r5rRoCTbq%2BAiHAxuCqucfxE15X/AMNy%2BCNC4%2BKXwf8AiR4PC/6y51rwbPJbj1xLbeaGHv8ApW94U/bP/ZT8ZlV0P49%2BGldjhYr/AFBbNyfTbPsbPtiudWT3Nje8Y%2BOvip4P8R3FiP2cvFGraVFs8jVdGMMzTZQFv3JZXXDErz12571nt%2B1N8PtF0ya28deGfF3hl2njbGveE7uIABXByURgPvDvXa6Pr%2BheIrUX3h/WrS%2BgPSazuVlU/ipIrVh/5Atx/wBfUP8A6DLTal3DQ8/0T9pH4C%2BINo034taEC33Uub9YGP4SbTXYaLqOn%2BJEEnh2%2Bhv1IyGspRKP/Hc1n614B8C%2BJM/8JF4L0m/3fe%2B26dFLn/vpTXLar%2Byx%2BzzrDF7r4T6VGT3s42t8fTyiuKfv%2BQaHpP8AYetf9Ae6/wDAdv8ACj%2Bw9a/6A91/4Dt/hXlP/DKHwys/%2BRa1jxRo2Pu/2X4pu02/Tc7UD9nbXLLnRP2i/iBCewvNWiulH/fyLJ/E0rz7Boev6Vo%2Brx3LNJpVyoNtMMtAw5MTADp61Tm8N6lcDE%2BgTuP9u1Y/zFeaab8Ivj/b3LJo37VV6gFvKcX3hKyuMgRsSM/KeRkde9V/%2BEK/aksv%2BPb44eH73HT7Z4T8vP8A37lpXlfYND0ib4fW1xzP4Ijf/f0wH%2Ba1BJ8KNCl/1vw2tG%2Bujr/8TXn32D9sC24h8RfDy597jTb1D/47JR5v7Y0f3rL4aSj/AGbjUEP6oaL%2BX4Ad43wc8NP1%2BGdr%2BGkgf%2By1JpnwV8INqduLr4a23lmdPM36dgbdwznjpivP/wC1f2u4/v8Ag/wFJ/1z1e7H846saTr/AO10mq2xg%2BHngh3FwmwHXbgAncMZ/dUna234AdkPgv4XHT4aW/46Z/8AWp6/B7w0nT4Z2n46Qp/mtcF/bv7WzdPAHglf97XLg/8AtKj%2B0v2vpPueFvh/F/101S8b%2BUdPTt%2BAHoUfwt0aH/VfDm1X/d0hR/7LVmHwIlv/AMe/g0R/7mnY/kteabv2x5P%2BWfwzh%2Br6hJ/RaP7J/a7uuLjxl4Dtc97XSLuTH/fclF32/AD1VPD%2BrRLtj0S5Uei2zD%2BlWtY0fV5dXupYtKuWVrlyrLAxBG489K8g/wCEA/advObn9oTSbP1Fn4Njk/8ARktWNV%2BDPxsudVuY/EH7U%2BszkXDh2sPD9la7juOSNqnFF5X2DQ9O/sPWv%2BgPdf8AgO3%2BFH9h61/0CLr/AMB2/wAK8p/4Ztmuzu1r4%2B/EW6z95E8RCBD%2BEUa/zrPv/wBnL9m%2B20251rxpqtxf2tk229vNb8XXDRwtwMSEzKq9Rw3qKd59g0PS9d8X%2BE/C%2B7/hJfE%2Bnadt%2B99uvY4cfXeRXI6t%2B1P%2Bz3o8nlXHxV0ydycBNPZ7ok%2BwhVs/hTvDH7Pv7OkVhBqnhv4Y%2BG7u2njWS2ujaR3SSIRkMrvuyCOQQa7DSfDfh3QE8vQtBsrJcY22lqkY/wDHQKfvhocdP%2B0ppeu21qvgX4R%2BP/EIjgKedpnhKYRZMjsPnl2ADDDmov8AhNP2n9c%2BXw1%2By3c2UbfcuvEGuRxY%2BsUSu36ivTdQ/wCPSx/69T/6NkrnvEvj/wAB%2BC4zN4x8baRpKAZLanqUUAA%2BrsKlKVtw0OT/AOEC/bL8RfLqni3w54cQ9P7F8PT3sgHubgqufwxR/wAMq%2BJ9c%2Bf4hfFnx7rO7/W20F2bG2f6xwIv/oVY3iD9u79krw9c/YX%2BNemahcE4jg0KOXUGc%2Bi/ZkcGs4/tlX/iH918Lf2Xvibr5b/U3dxoC6daSf8Aba6df/QaXu97/eGp3/hr9lH4SeEpRcaT8GrV5gc/aL6ye6lz675t5B9813y6BqNvodtZ22izII7iXEUdsQFXbHjgDgcH8q8C/wCE0/b18Z/8i/8ABXwL4LjPV/FPiWXUpQPUJZoq59i2Pep5v2e/2nPF%2BlQy/FP9s3VLS0luJA2meB/D1tpnlHEedty/mynOQOcYx707tbID2XWmXw3p8mr%2BImFhaRDMt1enyo0HuzYArybxH%2B3B%2BzToepnw/o3xCHiXVTkRaV4QspdUmlPoPsysoP1YVxw/Zz/YY0G91jV/H3iCPxprHhmDz9dk8U%2BKJtYvLRc4/eWwdvmY8BfK3MSAASQK9e%2BDmo/CfU/DMjfCPw/aaVZW109tc6dBoh06S2lTgxy27Ro8TYIIDKDhgehp3m%2BwaHEf8Lm/ay%2BIH7v4Pfsaa1p9vJwmsfEW9XTVj9zaxiSZh%2BVIf2b/ANsP4j/P8YP2jb3Q7ST/AFui/DXQvse3/dvJw836CvSvHPxL%2BHXww0v%2B3PiT4%2B0Xw/Zc4u9b1SK1jOOuGlZQa8W1X/gpp%2BzVeahLoXwbg8V/E/VIm2vYfDrwrc6gFPbMxVIAPfzMAcmk1bdgfSnwO8Av8ONKtfCkLarNbWGnmGK71id5p5fmBy8r8u3Xk16BXmf7O/inV/G2hWXivXvBWoeHLy%2B0wyz6JqrIbizYuvySeWzLu78E9a9Mrnq/GUtgooorMYUUUUAFFFFABRRRQAUUUUAZfjP/AJFq5/4B/wChrXhFp%2B15%2Byz4t%2BJmo/CXw/8AtD%2BDbjxTos6WGp%2BG/wDhIbdb%2B3uY0VXjMDOJCQwI4BGQRmvd/Gf/ACLVz/wD/wBDWvif/gpL8I/2TvFFlpvhvxn%2ByN4P%2BIXxD8Zqll4TtLzQoRdySiBDJPJdIFmjhjBDOQ6545Ayy92CoVcTUVOmrt3/AC1bfRJat9EjGtVhRg5z2X9fe%2Bhq/txeKrTx3/Zn7JngXwho2v8AjTxijY/tjTYruDQdO6TX8qyKwUgZCccsMjJAVqGg/wDBKj9mXwroFhbeDNX8a%2BHNdsrURP4r8L%2BMbuwvJj3YqjmFeewjwOBzXnnwx/4I5QfC3wjo%2Bp/DH9rv4k/D7xnZ6YLe7vPBmpwHTJRkMIZLW5hf7RGmAAXbccZ4zgdJF8Of%2BCxvwpjD%2BBv2nPg/8YLJeSnj3wbcaBeuo/hSbTHkhL9tzRgH0FejisRClS%2Bq0NYfaa%2B2%2B/R8q2in/iau9OahRlOft6q97ov5V/m%2Br%2BSdlr1Q/Zo/ba%2BHfzfB/wDbtuNZtIv9To/xN8JW%2Bob/APfvLcwzfofwpR8W/wDgpH8Pfk8dfsn%2BCvHUS/6y9%2BH3jc2LBfUW%2BooCx/2RJ9Ca5Yft0ftyfDLj9oX/AIJX%2BNJrWLh9W%2BE3izT/ABIs3qy2paCdR/skE/WrGmf8FnP2FLO9i0T4veKvFfwx1WVto0v4meAtS0mRT3DSPCYQR/10rzPd72/rzOzU6mT/AIKQ%2BDPDGlw23xv/AGcfi94CEVxKZ9Q1nwLNc2AysedtxZmYPjHPAPI45rovAv8AwUA/Yq%2BI7LF4X/aZ8I%2Ba5wltqWqrYzMfQR3PluT7YzXVfDX9rD9l742aNaR/B/8AaL8D%2BJ5JLmUrBoXiq0upRlY8ApHIWU%2BxANXPHfwM%2BCnxRVl%2BJXwh8MeIN4%2BZta0G3uj%2BciE01zdGGh0Gka3o3iCxTU9B1e1vrZ/uXFncLKjfRlJBrL8V/Cr4YeOww8b/AA40HWNww39qaRDcZ/7%2BKa8d1f8A4JffsTXt82seHvhHL4av2%2B7feEtfvtNdPosEyp%2Bamq3/AAwX4z8M/vfhV%2B3Z8ZtHZf8AVW%2BseIINZto/QCO7hJx7bqfvdUGh1GsfsDfskavdHUIvg5aabc/wXGh31zYMh9vs8iD9MUyP9iSw0vS5p/Av7Svxa0ER3EQjtLbxm1xbDKydYrhJM4x6jqa5r/hTf/BSHwn%2B88Nftn%2BD/FQH3IPF/wANEtfwZ7Gdc/UKKsReMf8AgqZ4V0qZtZ%2BC3wc8WQi4iLf8I74rv9OkY7ZMDF3C6jPP8R7VLUewamt/wob9rLRePC/7bV1PEv3LfxB4FsbrPsZIzG/480f2V/wUK0X5LLxd8JtdQfxajpeoWcjfjE7qPyrB/wCGr/2wdA%2Bbx3/wTg8TJGPvS%2BGfHWl6pn3C7om/MCj/AIeIafphx4z/AGOfjzogX/WT3Hw5e4hX/tpbSyDFHu93%2BIam9/wsX9uzRONU/Zs8Ha2R1Oi%2BOmtt30%2B0Qfzo/wCGi/2ltN58SfsNeIYwOraT4t068/IB1P6CsI/8FTv2NLD5PF3jPxD4ek/ij17wJq0G36t9mKj8TWvov/BSv9g/XsfYf2ofC0een226a2/9HKuKLr%2BYPkXtM/bK1vTblv7c/Y7%2BMcTfZ5QfsXhaG7UZjYZzFOTgZz06VX/4bm8A23Gt/B34paZ6/b/h9drj67Q1dZ4U/bK/ZE1m5J0v9qT4dzlraYBU8aWO7JiYAY83NbOm/Gr4N6zj%2ByPi14Zus9Ps2vW75/75c01e%2B4HnX/DwH9myD/kK6r4ksfX7X4K1IY/KA0f8PEf2O1/13xdaH/r48O6jHj/vq3FewWWvaHqQB07WbS4z08i5V8/kat07S7hoeLx/8FDv2Mpfu/HbTh/vWV0v84qu6R/wUH/Yzh1W1nl%2BPmkKiXCMzGGfgBgSf9XXrElvbzf62BG/3lBqXRdJ0p9atN2mW5/0qPrCv94e1J81mGh403/BQT9jdRk/HnSfwgnP/tOoX/4KIfsZIcf8LzsWPpHp9238oTXsS6Xpifd06AfSFf8ACpUijiGI41UeijFP3w0PFv8Ah4f%2ByE/Ft8Ubm4PYW3hbU5M/982xo/4b8/Z%2Bn/5BEfi3UD2Fn4H1Fs/99QivayQo3MQAOpNZ994u8KaWCdT8T6dbgdfPvY0x%2BZo97uGhg/CL4y6F8ZdMu9W0Dwx4i02KznWJh4h0OWxaUlc7o1kALr2yO9ct%2B1rdR6H4gn8XaX4quYr/AEaaO%2BvLOHX5YJIbFLk75Le1UeVcySE%2BWRLxtPykHAPU6l8fvgRouf7Y%2BNfhG0x1%2B0%2BJLWPH/fUgrlfiP%2B1p%2BwTc%2BJDqvi39of4V3txYXsklhNP4l0%2B5lt2LZ3R4dmQ8A5GOgpP1A4/4szxf8LS1y603UYl8Wy32knwPOZR5skMkbwSRwE8tEJN7yqMqpIZ8YBrB0TR449W0a%2B8E%2BGbhbXw7BpsvjixtdOcsJ7a8lR/MjVd002yWSXgM7LCp5%2BXPT6h/wU0/4J9%2BHCkB/aN8PMYwViTTbae5wD2UQRN%2BlVv%2BHoH7LmpceB4PHXicn7q6B8OdVk3fTfAmal8t9x6nqPwD0%2B/sfCN9JNp1xZ2V14gvrjR7W6tnhkitHmJjBjcBox94hSAQpHAqv8XPg946%2BJms2tzoH7QHiXwlp8Vt5dxp/h6G3Vp33E%2BZ5skbMpwQMDjjNebf8N%2B69rH7vwV%2Bwp8dtQc/6uS/8GRadC3/AAK5nU/%2BO0n/AA0r%2B3Xr/HhL/gnXNaRP9y78T/E7Trbb7mKFZX/DiqvG1hanS3n7CPw81G2tD4/%2BLnxO8WJJblnh1/x3cmP/AFjjASDywo4zgY5Jq/4a/Yd/ZJ8KSCbTPgLoE7g536rbm%2BYn1JuS5J965O9v/wDgqx4nt7QxeH/gb4Ut3tyE%2B13uq6ncovmPziNYo85z3Iqv/wAM7/t8%2BKDv8Zft/wBtpET/AOtsfB/w0s48D0We5klcfXANJKPYD3nw/wCEvCnhK2%2Bx%2BFfDGn6ZDjHlafZRwr%2BSACrv2m2%2B0/Y/tCeds3%2BVvG7bnGcdcZ7188/8O7dI8Q/N8Vv2sPjV4rV/9fZXnjx7S0f/ALY2iRAD8T9a7n4FfsZ/s2fs2a7d%2BKvg58Nk0vVb%2B0NtfapPqd1d3FxEWVyrSXErkgsin8KpX7AWv2j9B%2BJms%2BE1l%2BF3i/UrPU4I5PsOkaXeW1q%2BoXLFBGXnnVgI4hvkaNQDIBgnHB8i%2BKOr%2BGda0TwJ%2B1tf%2BOfBMyXXgaT7HafEDSHK3GoWzQXKG1iEojtrpmkljJUu6kJsEmyu9/bv8U6R4Q%2BAs2qz/DS08W6q2owpoGiXc0kQkuAGllk3xESIsVrHczOU52RPkEZrkviz468d%2BHL3w74b%2BAtzpHhHSbb4cXvjOGBNFt5F1WS1exjazl8xMpGtvN96NlkBYfNgYMy3BHIa18LPiH8VvDenfD3T/B%2BraN4lfU9b1BdXu9Pm%2BxRWl9btfwSvdqnltIL%2BOwV4siT91I23CjPvfwV8PeND438Y/Enxf4Mn8Of8JDPYLBo1xfQXD7re38t7gtA7IN5YKBnO2FSQpJUfH3xE%2BLPxx8ZfAvVPi14N8YeJbzVvGureI9D1XwS9/LNFAI9LudUsrW3h6W7m3s3hDxhXl%2B2KWLHZj6J/Yx1fwA/jr4h%2BF/gNr9hf/DfT5tLm8OppNz5tpYXk8Msl7aRYJCYPkStHxtedgQDkURtcbPVfiL8DPg18XtS0rV/ir8LtB8ST6IZTpLa5pcV0LUy7N5RZAVBPlpzj%2BEVuwweHPB%2Bh%2BXbw2WlabZRE7UVIIIEHXphVA/AV5j%2B1D8Cv2gPjfJomnfB39r/WvhZpdstwPEcXh/wzZXl3qofy/K8u5uQxtCm2XJRWLeYOm3nyyw/4I4fsneILyLWP2i/E3xH%2BMuoROHjufin8Qb2/jRv9m3iaKAL6KYyB6VTvfRCPsH4Qa9ofieRPEHhrWbTUbC7sS9re2Nws0My7l%2BZHQlWHuDXe15t8APAPgj4W6TafD74b%2BEtO0LQ9K00wabpGk2iQW9tGHU7UjQAKMkngckk969JrmrfGUtgooorIYUUUUAFFFFABRRRQBz9v8WPhZdfEKf4R2vxK8PyeK7a0F1c%2BGI9ZgOoxQEKRK1sG8xUw6ncVx8w55FGh/Fj4WeJvGup/Dbw38SvD%2BoeI9FQPrOgWOswS3tgpxgzQK5kiB3LywH3h618wWfh7xh4f/aA0rQdR%2BG3ij7bon7Qes%2BMdW8SW/hW8ms5tEutBvbS3kjuo4mjnfdeWdmbdWMqCBnZBHEHqz%2Bzz4I8dWXxx8H%2BFr74ea/p9/wCCvE3xEv8AxXr99oc8Fld22qavJPaCG7dBFdm5EtvclIncx/ZisojdVUgH1F4z/wCRauf%2BAf8Aoa18Jfsg/BHwhrv7Z3xj/aW0S91iWwsvFd3o2lWeq63PepHqBjg/tGeHz2byIy6BY4oisarK425wa%2B%2BdU06HVrF9PuHZUkxuKHngg9/pXmnwG/ZP8E/AXwbdeEdE8Qapf/btbvNUu728aMSSzXEpc52rjgbVz32574r08FiqOGw1W/xySivRv3vvSS%2BbOWvSnVrU/wCVNt%2BqXu/i2zyj9tTUPjlpvwNvLj4F6ULmdbhX8SPb62lhfw6QiO90bGWSN4xdMqiNC%2B0J5jOGDItfKPgDwtrFv%2BwH8EvAHw7ntvDN7pGtaj4o8X%2BDLr4qz%2BH73ULS1sr6e5tRqGlPPKjrc3ljPIN2Sq/vQAzY/Tr/AIV5ov8Az9XX/fa//E1zXxK/ZU%2BAvxm0qLQvi98NNG8U2Vvc/abe18RaPbXscM23aJUWaJgr7SRuGCB3rldSDZ0WZ8AaL%2B2P4407wXp/xo8I/FXXtK8C%2BGfE3hjw/B4X8RrDqF1rUVyiXOr3N9e3KSXTyW9pJO8TRSR7zY7mLrL8vs37Mf7R3xR%2BN/inT/BHx68H%2BGIrbxt8MLLxxoWkabYTGXS7O4mCGwvzPI6TzKJYcSokauyzDywEBPtni3/gnZ%2Byr448Z6h478T%2BCb25vNUtpIr60bW7kWEjvYNpxuPsW/7MtyLJ3thcCMSiJ2Tdjin/ALP/AOw14H%2BA2o6h4iuPiZ4r8X61fafZ6Ymu%2BKJrM3NvptohW3s0FrbwxBFLSOW2b3aQs5Y4NJVY3Cx5l8U/%2BCY//BPf4w6Sl149/Y5%2BH9xcz3MwnvrHw5DZXMnyx/enthHIep6txmvOP%2BHO/wCzx4W4%2BAfxt%2BNnwsRf9XB4E%2BLOoJCvt5V21whH%2ByQRX0J%2B17%2BwDov7W2j%2BH9Ph/ak%2BM3wxuvDdzdT2epfCbxsNJlumnWFSt0phkjuUXyVKq6kAs/rx137P/wCzZd/Bj4Q6N8MvF/xr8V%2BP9Q0pJkn8XeK5bc6hqAeaSRTMYYkQlFdYwQoysYJ5yaFUp31QWZ8m/wDDFP8AwUI8EfL8If8AgrD4hntY%2BY9P%2BIfw00rWfM9A1xH5Eo%2BoP4UeV/wW08EcR3f7OHj21i7yx61ol7N/3yZ4Qfy/GvuP/hXmi/8AP1df99r/APE0f8K80X/n6uv%2B%2B1/%2BJp%2B0p92FmfDn/DXf/BTPwj8vj/8A4JSPqkMf%2Bt1DwP8AGLS7rd7rb3KQyfhk1Yj/AOCqt74d0ua1%2BJ//AATk/aZ0Ai4iae8t/houp2ceFk6zWVxJ691HQ19t/wDCvNF/5%2Brr/vtf/iakXwJpC2r2gubna8iuTvXOVDAfw/7RodSPcLHw0v8AwWv/AOCe2mEQ/EH4keJvB0%2BcNB4t%2BHGtWZU%2B7m0KD8Wr1/8AZ4/bU/ZV/axmv7X9nP45aF4tm0uFJtRt9LnYy20bkhGdGUMoJBAyOxr6Bb4daGylWuLkgjBBdef/AB2qGl/BD4eaJfz6rouiQ2d1dKFubm1toY5JQCSAzKgLAEnr601Wj3/ALHkX7RXxjuPgr8NbzxFoOgNrPiCeGaPw3oSZBvrpYXl2sR9yNUjeR3OAFQ85Kg%2BS%2BPfjN4j1T4e%2BAvK%2BBHgzX/F/izwjda/q1tq6GKxt4LS3iknVC0ckhMjTKke4YHVjX0r8bv2PvgX%2B0P4Pm8G/FjwdZ6xCbeeOxuNR0%2B3uJbCSWMxmaAyxt5cgB4YegrznxJ/wTf0I%2BB/Dfg34YfGDU/C7eGNB1Dw9p91BpFtKE0a9jgSe3VAEVZgbaJ45zko27KsGIpOrG4JHz1a/F/8AY/8AEiRfELxf%2BxB8PZvADyTaff8AiS70aymu4NQTSri%2BmC2hsyrwxC3kRpTOrb1BWNgd1bfwY/Z%2B/Y1%2BN2uX/hbx1%2Bwb4L8KarDpFnrFjZRWlvL9q0263iGctDHGI33RurRnO0jhmHNeqaz/AMEsfBmri/8AAA%2BJ1xbfDm7mv7yDwrbaQBe295d6LPpMrfbTMVaHZdT3AiMG4TsreZsXYfQvgj%2ByNqXw88Wap8QviR8TIvEeuX%2Biado0E%2BlaD/ZlvbWNmJWRBE09wWdpZ5nZt4HzKoUBeZVSN9R2PHL3/glz%2BwFqBJn/AGZNCXP/ADwmuIv/AECUVU/4dR/sCL/qPgIIP%2BvbxRqsX/oF0K9o/ac/Yjt/2kdP0iy0z9p/4sfDd9Immk%2B0fDXxHb2D33mBRtuPNtpRIq7cqBtwWbrnjyBv%2BCR/xMteNI/4KvftIoO32zXdLuP52IzTdSlfYVmVv%2BHVf7D6f8evwx1mD/rl4%2B1ofzvKsaT/AMErf2Mp9VtoG8IeJgj3CKwX4h6yOCw/6eqP%2BHVf7RcHFl/wVx%2BN6jt59jo0v87SnW//AAS//astJ0uLf/gr18XwY3DLu8O6IeQc/wDPtSdSnbYLMq/8Osv2M2/1ngzxI/s3xB1n/wCSqP8Ah1T%2Bww//AB8/CfVJv%2Bu3jzWm/wDbyp/%2BHW/7Ur8Tf8FePjCR/saBoi/%2B2tKP%2BCU3x/n41D/grd8dWHf7PDo8X8rM0/aU%2BwWZAP8AglH/AME/8gzfs9W85H/P14g1KX/0O5NaFh/wTG/YI04g2/7MPhxsdPPWWX/0NzVcf8Eh/HN2f%2BJz/wAFWP2m5B3%2BxeKtMt/5WBp3/DmTRZ/%2BQp/wUt/a5us/eH/C5FgB/wC/FnHS9rT/AJQszo9N/YK/Yn0rH2X9lLwA2On2nwrazf8AoxGrrG/Zk/Zt8N6xcx%2BHf2e/A9gsdy4RbLwnZxBQGOANsYxXmA/4Igfs8Xv/ACNP7UH7RuuA/eGrfG3UX3fXYVpZf%2BCCP/BN7U5Wm8W%2BBvG2vszEsdb%2BKuuzZPuPtYB/HNP2sb7BZnrk998LPhvCftN54f0CMLzvkgtQB%2BO2uR8S/ts/saeDd3/CXfta/DPSyv3l1Dx3p8JH4NMDWFoP/BCD/glJ4ccSWP7IOgzMDnOozz3mfr58j5/Gu78N/wDBLD/gnj4QKv4c/Y4%2BGtrIv3Z18C6a0n/fbQFv1p%2B2Qcp454p/4LB/8EyfB5Yar%2B2f4MnK9tJvJL/P0%2BzJJn8Kwv8Ah89%2Bxfrfy/Cyy%2BJnjpj9xfCHwm1qfef9ky20YP54r7F8Lfs1/BnwOFXwV4E0zRwo%2BUaXpdvb4%2Bnlxit3/hXmi/8AP1df99r/APE0e2Xf8AsfEl7/AMFN/ir4strS3%2BFH/BLb9orUZFtyscvifwzZaDDJ%2B8cghru63Ac4yUHIPFQf8NI/8FZfGn7jwf8A8E2PCXhEN/q73xz8Zra4AHYtDp9vIR9N5Nfc03gTSJ44onubkCGMouHXkbi3Py%2BrGo/%2BFeaL/wA/V1/32v8A8TQqke4WPhz/AIQj/gtR48/c%2BIvjt8APh/C3STwn4Q1TWriMe5vpokY/8BAr0v8AZm%2BAX7T3wr8Saj4m/aH/AG29V%2BKbXtiILbTZPBWn6LZWThw3mxx2oLFsAr87twfWvpj/AIV5ov8Az9XX/fa//E0f8K80X/n6uv8Avtf/AImmqlPuwszxj42/s%2BfCr9oXRLbQfip4fmv4LNpntBDqdzbeW0sTRPnyJE3go7Aq%2BVOelcN4u/ZF/Z38A/szaZoXxF1DVX8M/D3RtQEF1BqX9mvZ6YLaI3kBks/JZoJo4gZUdiH2jJxXsXxY/ZX1L4k/EHwN4y0L9oTxr4UsfCOqy3uq%2BH/D81qtr4lVlQLb3pkhdjEu1jiMqTvPPAx0/wASvgB8Ofi78O9R%2BFXxAs7u90PVoJINQtY754GljcKGXzISrp90cqwI9aTq02FmfAMfiv4tePf2b/Dv7T3wz/ZttfB/xUsvG9j4Y8ZQ%2BGPCVtqeu6Xov2lbSWC1%2B2gKs0cT2xkMmURYpQQyqK5zxz%2B0D4z1qXxj4m8JfFP4gaPqvwa%2BFh1200DV2hsLi%2B1HTb2d9YTULLT9tneSSQJHHiNXgVbqKSLDsr19i/DP/glx%2Bzn8JNK8a%2BGPAuq%2BJtN0bx1qf9oaxp9jq/lS/aQkQSZb0KbzzEaIOr%2Bf95jkEcV0Oi/8E6f2RtM8Nad4W1f4V2/iKHS9al1m2uvGUh1q6OpSsrSXjz33myPMzIhLluCi4xtXC9pEdj4q/Y41LT/DX7Rfg3QdG1S0g%2BJep%2BIPGtp8b9Kinxd6hY295ePpusXcWckSFrRoJSMNHelUOEKr9eftHfC3x78aPhDqfw5%2BGnx11z4bavqDweT4v8N2lvPeWcaTI8qxrcI8YMkavHuxld%2B4civaE%2BGfhyKaS4jadZJcea6lAXxwMnbzin/8K80X/n6uv%2B%2B1/wDiapVYJWFZnCfsqfDi/wDhD4G0j4aap8S/EfjG40bR/s83ifxddxz6lqLBwfNuJI441Z%2BcZCjgDqeT6zWZo3hXT9Dumu7SaZmaMoRIwIxkHsB6Vp1hUkpSuhrYKKKKgYUUUUAFFFFABRRRQAUUUUAfOfwM/a2%2BJfjPxboGo/EWy0BfDHj3wh4h8SeFodI0%2BeO90u20y9tIlhupJJ3S6kmt72OXckcAjeJ0xIGVhxeg/twftH3a%2BBvCmtab4Ji1/wCL2g6BrPgm4g0e7NroUV9JI91b3sZu9189vbqhSSN7YTSMQUiAyfY/h5%2Bxx4I%2BGnjmDxroPj/xRNHp0OoWmgaJfSWUllo9hfXaXd7YwD7KJDDLNFBnzHkkRbeNI3jQFWwdE/4J6fCzQdFh0y0%2BJPjSS60ez0my8F6xPe2b3XhWz0yd5rO2sj9l2OimRkdrlLh5o8JK8gAAAO8/Zp%2BKfiP4ufDKXXfGdpYxa1pXibWtA1c6ZE8dtPcabqdzYtPEju7RpL9nEojZ3KCTYXYqWPf1zHwf%2BFPh74LeA7fwD4bvr68iS8vL681DU5Ue5vry7upbu6uZSionmS3E8sjBFVAXwqqoCjp6ACvnvRP2o/ipf/G7T7e6sfD3/CDaz8VdS8BWFnHYTjVILmz0y7umv5LgzmJ43nsZ4RAIFIWSOTzThkr6ErySf9j3wafiqfinp3xD8U2Rj8RzeItP0C3msm0%2Bw1mazNlPfxLJatJ5klu86FHkaIG5lkWNZGDgA81/aF/ak/aq%2BC/iTxboei6V4I167tfA%2Bu%2BINH0LR9D1C8udEgtriKLTZr90uF%2B1fbA0pFvHFA4eKVI5J1hklr2P9m74oXfxS8G6he6v8QdM1/UtL1qSw1P%2Bz/BF/wCHZLCURRSC3nsNQnmuIpdkqSguVDxzRsq7SGbnfD/7Hq%2BGtZ8batpf7SHxFjHjvU7zUNVjil0mKSC5mwIXhuotPW6xbRrHFAkkzqscKI4kXIPY/Bv4K6V8HYdeuk8X614i1fxRrQ1XxD4g8QNbfar24W2gtI8rawwwRqkFtBGqxxIMJuOXZmYA7OiiigDwD9rD9pf4t/CbXfEFl8KLDw68PgX4X3vjnxNHr1jPNJqdvDI4jsLZop4hbSSLb3WbhxMqHyv3TAtiH4pftQ%2BPPB37T9p8P5vFejeGfAj%2BGvDt%2Bmt6v8N9W1Nb671DUb%2B2ktm1C3uorXTcLb2io1wrDzLsZ3cKe0%2BPf7J3gX9oPUjqHiPxX4h0gXnh268PeIrfQbm3jj13R7h0eawuvOhkIjbawDwmKZRLKFkUOab8R/2WrL4q3NvB4v8AjV44l0gw2cWt%2BG4ruySw1pLa6a5iE6fZN0J3Nsc2rQGWNUSQuFXABx37Ov7UfxU%2BJvxC8LW/jix8PL4e%2BJHhjXte8Iw6VYTxXelwadf2cEcN3LJPIl080F9HKWSOARPE6YkDKw%2BhK8t%2BEv7JngP4P%2BPR460XxT4g1AWNjqNj4Z0jVbi3a08PWl/eR3l3b2gjhSQpJNDB/r3mZFgREKICp9SoAK8u%2BPnxM%2BKWi%2BO/Bfwd%2BDN14fstd8WtqVw%2BreJtLnvbW0tLK3V3AgguLd5JHlmt0B81QqmRsMVCn1GuH%2BM3wL0z4xS6Jq8PjrxB4W1vw7dTzaP4i8MSWy3cCzwPBNFi6gnieN0fkNGSGSN1KsikAHlfjL9pL45%2BK/2PfBX7TPwW1Lwlouq%2BLPDuly2vhfxJ4ZutUF3q%2Bp/Z4rSzSaC/tfJjFxPsklKSYjzJgBCDN8G/2k/ij4j/AGjtb%2BE3xY8YeH9KhtfEl7pXh3R1%2BGer2kmtC3s45zJBq0121nLJgzSm3SNpBFEx6Kz132jfsv8AgHQfCXgDwFp2rauujfDTVre98LacZodkcdvYTWVvaSERbpYYkm3qSfNMkUbNI2CCN%2BzXpV58YdP%2BLXiD4peL9Wi0XWrjWPD3hbU7%2B3k03Sr%2BezlspJ4SIBcn9xcXKLFJO8SfaH2RrhNoB6RRRRQBR8TTeI7fw5fz%2BDrCzutWSzlOmW2o3TQW8twFPlrLIiO0aFsBmVGIGSFJ4rwfQv2pPixqX7F/g/4xXOn%2BHf8AhNvF2uaVoURjsZxpdvd3mrJp5uTCZzK0Uas03lecGfZs8xN24e8%2BI9Lvtb0G70jTPEl7o9xcwNHDqunRwNPasRgSRi4jliLDqA6OvqpryDwj%2BxHoPhj4IJ8BL/46eO9Z0izvLa90O71L%2ByUu9IvLe9jvre5ge20%2BJWeO5iVwJVkRslXV0O2gDynX/wBuj9omys/Hmj6TpfgyTWPg34d17W/Hck2kXfka9FY3DfZoLFBdg2Lz28UjtJK9yIZCq7ZRlq%2BvbG8g1Cyhv7ZiY54lkjJGCVYZH6GvCdZ/4J5fCjXNDm0e6%2BIfjJJNYstVsfG%2BoRXtmJ/F1nqNyLi8t7//AEXYqO25VNstu8UbtHE0anFe9KqooRFAAGAAOAKAFpGLBSUXJxwCcZpaZcRvNA8Mdw8TOhCyxgFkJH3huBGR15BHsaAPIP2e/i78e/ij8J/G2o%2BK/DnhJfGvh7xRrOj6Zp2nXdzFpjzW/wDx7xy3Dq8pXcyo86xKWALrCufLHkWvftkftOaLq3/CKx6n4U1C1sfiLc%2BH9U8f%2BHPhPresWMkUGiteTJDp1lfvOZIbxTaySiZ4wyupVHjkVfWfA37H2oeA/C3jLwpY/tU/Ey5j8bS6jcX15N/YcNzY3l5GySXdrJbaZEY5VLK6Z3Irxr8pGQX%2BGP2RNQ8FfDrSPht4O/ai%2BI2k2vh8qmiXGlw6FbG0thA0P2XyI9LW2ljIIfMsLyK6BkdctkA9L%2BHvifT/ABt4B0PxlpPifTtbtdW0i2vLbWdIiKWl/HLErrcQqXkKxOGDKC7kKwG5up2Kwvhh8OfCvwf%2BG%2BgfCjwNZyW%2BjeGtHttM0qGWZpHS3giWKMM7ZLttUZY8k5J5NbtABXlmhfFj4qzftha58EfEWk6BD4Wh8EW%2Bs6BcWbTyahLIbnyZWuGYrGi7tyrEisQIw5kPmeXH6nXlup/sy399%2B0BN%2B0LZ/tEeObG9m0ddKGhWtvop0%2BOzEhlEQ8zTnn/1hL7jMWycZ24WgDxeT9uv4seG7Px7d%2BM9W8OQaxp2ueINM8EeCrz4davprXv2bXzpVjdHVZ7pre/jKSWs06W0QYLcAjYAM%2B4fs8/E3x/4x1Xx18PfinNo11rvgPxXFpNxqmgadLZ2uoxTaZZahFMtvLPO8JC3nlMplky0JcEBwq4Hjb9h/wAB/E7VtSvPib8UPG/iCyuLfVI9E0nUtVtzF4ee/kWSWazlS3W48xGUeSZ5ZlgX5YwqgKO4%2BDnwY0n4O2WtND4r1jxBq3iXWzq3iLxDr7W/2vULr7PBaozrbQwwoEt7a3iVY40ULECQWLMQDsaKKKAPLPHfxY%2BKvhf9qzwH8KrTSdA/4Q7xTo%2BqPc3krTvqTXttGsgCAFYoolVlyT5jSGQjEQjzJzvxy%2BKX7SngL4zab4W%2BHviXwZqem3%2BjarrVxoFz4LvGvrTTbG0UM5vE1IJJJJfT2kSJ9mXKSykZMJJ6f4o/s2XfxN%2BL3hv4xQfHzxr4euvCsM8el6VocGjtZnz1Czs/2vT55WLoqqf3gAC5UKck7o%2BCvh%2BT4gan8TL3xDrM%2Bqar4OtfDk8gu1h8q3hluZTPEYURop5GujvdWA/cw7VQqSQDh/2LPj34u%2BOXguW7%2BJHjbR7vxJBpmm3mqaBY/DzVPDk%2Bk/aoWcB4dSuZpLiJ2SVY7hAsb%2BRIFLFW2%2B01598G/wBnzT/hH4h1jxrqPxL8UeMPEGt6bp%2Bm3mveK5rRrgWNibhra2UWlvBHtR7u6cuUMjtOxd2woX0GgArz/wDaP8YfEXwF4Cbxh4J8aeC/DOn6YZbrxP4l8b2Vxd2%2Bn2McEjbktoJoDM7SCNeZkCqWIEjYQ%2BgV55%2B0D%2BzzY/tBQeG4NQ%2BJniTw5/wjHiCPWbMaBHp8qXN1HG6wmeK/tLmOURM/moNo2SpHIPmjQqAeXeNP2o/2kLjwX4KXwh4G8P8AhrxbqfwZvvHvizRfFtjc3K2c1rFYbtHQRTQtFI015IhuG3%2BULfmGQvhYfhN%2B2l8Rvih4z8K%2BNbbStCi%2BHvjXx/deEdI042E41a1mh0i4vvtstx55idGms54PIWBSFeOTzThkru/iT%2ByBpfxX0ywi8X/HDxy2qWuiajol34ispNMt7zUNKvxb/a7Gby7EQqkhtoWEkUcc0bLmOVMnMvhj9jf4ZeEPijZ/EXQ9d1yKw0zW5db0fwYJ7caRp%2Bqy6edPkvYlEInDtbPKnltMYQ08jiMO24AHrVFFFABRRRQAUUUUAFFFFABRRRQAUUUUAFFFFABRRRQAUUUUAFFFFABRRRQAUUUUAFFFFABRRRQAUUUUAFFFFABRRRQAUUUUAFFFFABRRRQAUUUUAFFFFABRRRQAUUUUAFFFFABRRRQAUUUUAFFFFABRRRQB/9k%3D\">"
            ]
          },
          "metadata": {
            "tags": []
          }
        }
      ]
    }
  ]
}